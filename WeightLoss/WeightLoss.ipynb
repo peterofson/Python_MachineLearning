{
 "cells": [
  {
   "cell_type": "code",
   "execution_count": null,
   "metadata": {},
   "outputs": [],
   "source": [
    "\"\"\"Contrived data on weight loss and self esteem over three months, for three groups of individuals: \n",
    "Control, Diet and Diet + Exercise. The data constitute a double-multivariate design.\n",
    "\n",
    "Usage\n",
    "WeightLoss\n",
    "Format\n",
    "A data frame with 34 observations on the following 7 variables.\n",
    "\n",
    "group\n",
    "a factor with levels # Control # Diet # DietEx.\n",
    "\n",
    "wl1\n",
    "Weight loss at 1 month\n",
    "\n",
    "wl2\n",
    "Weight loss at 2 months\n",
    "\n",
    "wl3\n",
    "Weight loss at 3 months\n",
    "\n",
    "se1\n",
    "Self esteem at 1 month\n",
    "\n",
    "se2\n",
    "Self esteem at 2 months\n",
    "\n",
    "se3\n",
    "Self esteem at 3 months\"\"\""
   ]
  },
  {
   "cell_type": "code",
   "execution_count": 2,
   "metadata": {},
   "outputs": [],
   "source": [
    "import pandas as pd\n",
    "import matplotlib.pyplot as plt\n",
    "import numpy as np\n",
    "import seaborn as sb\n",
    "path = pd.read_csv('/Users/Stellarhardwood/Downloads/WeightLoss.csv')"
   ]
  },
  {
   "cell_type": "code",
   "execution_count": null,
   "metadata": {},
   "outputs": [],
   "source": []
  }
 ],
 "metadata": {
  "kernelspec": {
   "display_name": "Python 3",
   "language": "python",
   "name": "python3"
  },
  "language_info": {
   "codemirror_mode": {
    "name": "ipython",
    "version": 3
   },
   "file_extension": ".py",
   "mimetype": "text/x-python",
   "name": "python",
   "nbconvert_exporter": "python",
   "pygments_lexer": "ipython3",
   "version": "3.7.1"
  }
 },
 "nbformat": 4,
 "nbformat_minor": 2
}
