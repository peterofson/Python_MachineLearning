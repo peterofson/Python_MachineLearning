{
 "cells": [
  {
   "cell_type": "code",
   "execution_count": null,
   "metadata": {},
   "outputs": [],
   "source": [
    "\"\"\"Contrived data on weight loss and self esteem over three months, for three groups of individuals: \n",
    "Control, Diet and Diet + Exercise. The data constitute a double-multivariate design.\n",
    "\n",
    "Usage\n",
    "WeightLoss\n",
    "Format\n",
    "A data frame with 34 observations on the following 7 variables.\n",
    "\n",
    "group\n",
    "a factor with levels # Control # Diet # DietEx.\n",
    "\n",
    "wl1\n",
    "Weight loss at 1 month\n",
    "\n",
    "wl2\n",
    "Weight loss at 2 months\n",
    "\n",
    "wl3\n",
    "Weight loss at 3 months\n",
    "\n",
    "se1\n",
    "Self esteem at 1 month\n",
    "\n",
    "se2\n",
    "Self esteem at 2 months\n",
    "\n",
    "se3\n",
    "Self esteem at 3 months\"\"\""
   ]
  },
  {
   "cell_type": "code",
   "execution_count": 51,
   "metadata": {},
   "outputs": [],
   "source": [
    "import pandas as pd\n",
    "import matplotlib.pyplot as plt\n",
    "import numpy as np\n",
    "from sklearn.linear_model import LinearRegression\n",
    "import seaborn as sb\n",
    "path = pd.read_csv('/Users/Stellarhardwood/Downloads/WeightLoss.csv')\n",
    "df = pd.DataFrame(path)"
   ]
  },
  {
   "cell_type": "code",
   "execution_count": 137,
   "metadata": {},
   "outputs": [],
   "source": [
    "df.describe() \n",
    "# Control 0-12\n",
    "# Diet 12-24\n",
    "# DietEx 24-34\n",
    "controldf = pd.DataFrame(DF.iloc[[0,1,2,3,4,5,6,7,8,9,10,11],:])\n",
    "dietdf =  pd.DataFrame(DF.iloc[[12,13,14,15,16,17,18,19,20,21,22,23],:])\n",
    "dietex = pd.DataFrame(DF.iloc[[24,25,26,27,28,29,30,31,32,33],:])"
   ]
  },
  {
   "cell_type": "code",
   "execution_count": 145,
   "metadata": {},
   "outputs": [
    {
     "data": {
      "text/html": [
       "<div>\n",
       "<style scoped>\n",
       "    .dataframe tbody tr th:only-of-type {\n",
       "        vertical-align: middle;\n",
       "    }\n",
       "\n",
       "    .dataframe tbody tr th {\n",
       "        vertical-align: top;\n",
       "    }\n",
       "\n",
       "    .dataframe thead th {\n",
       "        text-align: right;\n",
       "    }\n",
       "</style>\n",
       "<table border=\"1\" class=\"dataframe\">\n",
       "  <thead>\n",
       "    <tr style=\"text-align: right;\">\n",
       "      <th></th>\n",
       "      <th>wl1</th>\n",
       "      <th>wl2</th>\n",
       "      <th>wl3</th>\n",
       "      <th>se1</th>\n",
       "      <th>se2</th>\n",
       "      <th>se3</th>\n",
       "    </tr>\n",
       "  </thead>\n",
       "  <tbody>\n",
       "    <tr>\n",
       "      <th>count</th>\n",
       "      <td>12.0</td>\n",
       "      <td>12.000000</td>\n",
       "      <td>12.000000</td>\n",
       "      <td>12.000000</td>\n",
       "      <td>12.000000</td>\n",
       "      <td>12.000000</td>\n",
       "    </tr>\n",
       "    <tr>\n",
       "      <th>mean</th>\n",
       "      <td>4.5</td>\n",
       "      <td>3.333333</td>\n",
       "      <td>2.083333</td>\n",
       "      <td>14.750000</td>\n",
       "      <td>14.333333</td>\n",
       "      <td>15.083333</td>\n",
       "    </tr>\n",
       "    <tr>\n",
       "      <th>std</th>\n",
       "      <td>1.0</td>\n",
       "      <td>1.073087</td>\n",
       "      <td>1.164500</td>\n",
       "      <td>1.912875</td>\n",
       "      <td>1.922751</td>\n",
       "      <td>2.353270</td>\n",
       "    </tr>\n",
       "    <tr>\n",
       "      <th>min</th>\n",
       "      <td>3.0</td>\n",
       "      <td>2.000000</td>\n",
       "      <td>1.000000</td>\n",
       "      <td>11.000000</td>\n",
       "      <td>11.000000</td>\n",
       "      <td>11.000000</td>\n",
       "    </tr>\n",
       "    <tr>\n",
       "      <th>25%</th>\n",
       "      <td>4.0</td>\n",
       "      <td>2.750000</td>\n",
       "      <td>1.000000</td>\n",
       "      <td>13.750000</td>\n",
       "      <td>13.000000</td>\n",
       "      <td>13.750000</td>\n",
       "    </tr>\n",
       "    <tr>\n",
       "      <th>50%</th>\n",
       "      <td>4.5</td>\n",
       "      <td>3.000000</td>\n",
       "      <td>2.000000</td>\n",
       "      <td>14.500000</td>\n",
       "      <td>14.500000</td>\n",
       "      <td>15.000000</td>\n",
       "    </tr>\n",
       "    <tr>\n",
       "      <th>75%</th>\n",
       "      <td>5.0</td>\n",
       "      <td>4.000000</td>\n",
       "      <td>3.000000</td>\n",
       "      <td>16.250000</td>\n",
       "      <td>15.250000</td>\n",
       "      <td>16.250000</td>\n",
       "    </tr>\n",
       "    <tr>\n",
       "      <th>max</th>\n",
       "      <td>6.0</td>\n",
       "      <td>5.000000</td>\n",
       "      <td>4.000000</td>\n",
       "      <td>17.000000</td>\n",
       "      <td>18.000000</td>\n",
       "      <td>19.000000</td>\n",
       "    </tr>\n",
       "  </tbody>\n",
       "</table>\n",
       "</div>"
      ],
      "text/plain": [
       "        wl1        wl2        wl3        se1        se2        se3\n",
       "count  12.0  12.000000  12.000000  12.000000  12.000000  12.000000\n",
       "mean    4.5   3.333333   2.083333  14.750000  14.333333  15.083333\n",
       "std     1.0   1.073087   1.164500   1.912875   1.922751   2.353270\n",
       "min     3.0   2.000000   1.000000  11.000000  11.000000  11.000000\n",
       "25%     4.0   2.750000   1.000000  13.750000  13.000000  13.750000\n",
       "50%     4.5   3.000000   2.000000  14.500000  14.500000  15.000000\n",
       "75%     5.0   4.000000   3.000000  16.250000  15.250000  16.250000\n",
       "max     6.0   5.000000   4.000000  17.000000  18.000000  19.000000"
      ]
     },
     "execution_count": 145,
     "metadata": {},
     "output_type": "execute_result"
    }
   ],
   "source": [
    "controldf.describe()"
   ]
  },
  {
   "cell_type": "code",
   "execution_count": 139,
   "metadata": {},
   "outputs": [
    {
     "data": {
      "text/html": [
       "<div>\n",
       "<style scoped>\n",
       "    .dataframe tbody tr th:only-of-type {\n",
       "        vertical-align: middle;\n",
       "    }\n",
       "\n",
       "    .dataframe tbody tr th {\n",
       "        vertical-align: top;\n",
       "    }\n",
       "\n",
       "    .dataframe thead th {\n",
       "        text-align: right;\n",
       "    }\n",
       "</style>\n",
       "<table border=\"1\" class=\"dataframe\">\n",
       "  <thead>\n",
       "    <tr style=\"text-align: right;\">\n",
       "      <th></th>\n",
       "      <th>wl1</th>\n",
       "      <th>wl2</th>\n",
       "      <th>wl3</th>\n",
       "      <th>se1</th>\n",
       "      <th>se2</th>\n",
       "      <th>se3</th>\n",
       "    </tr>\n",
       "  </thead>\n",
       "  <tbody>\n",
       "    <tr>\n",
       "      <th>count</th>\n",
       "      <td>12.000000</td>\n",
       "      <td>12.000000</td>\n",
       "      <td>12.00000</td>\n",
       "      <td>12.000000</td>\n",
       "      <td>12.000000</td>\n",
       "      <td>12.000000</td>\n",
       "    </tr>\n",
       "    <tr>\n",
       "      <th>mean</th>\n",
       "      <td>5.333333</td>\n",
       "      <td>3.916667</td>\n",
       "      <td>2.25000</td>\n",
       "      <td>14.833333</td>\n",
       "      <td>13.750000</td>\n",
       "      <td>16.166667</td>\n",
       "    </tr>\n",
       "    <tr>\n",
       "      <th>std</th>\n",
       "      <td>1.370689</td>\n",
       "      <td>1.378954</td>\n",
       "      <td>1.13818</td>\n",
       "      <td>2.367712</td>\n",
       "      <td>2.767506</td>\n",
       "      <td>2.516611</td>\n",
       "    </tr>\n",
       "    <tr>\n",
       "      <th>min</th>\n",
       "      <td>3.000000</td>\n",
       "      <td>2.000000</td>\n",
       "      <td>1.00000</td>\n",
       "      <td>12.000000</td>\n",
       "      <td>11.000000</td>\n",
       "      <td>11.000000</td>\n",
       "    </tr>\n",
       "    <tr>\n",
       "      <th>25%</th>\n",
       "      <td>4.000000</td>\n",
       "      <td>3.000000</td>\n",
       "      <td>1.00000</td>\n",
       "      <td>12.750000</td>\n",
       "      <td>11.000000</td>\n",
       "      <td>14.750000</td>\n",
       "    </tr>\n",
       "    <tr>\n",
       "      <th>50%</th>\n",
       "      <td>5.500000</td>\n",
       "      <td>4.000000</td>\n",
       "      <td>2.00000</td>\n",
       "      <td>15.500000</td>\n",
       "      <td>14.000000</td>\n",
       "      <td>16.500000</td>\n",
       "    </tr>\n",
       "    <tr>\n",
       "      <th>75%</th>\n",
       "      <td>6.250000</td>\n",
       "      <td>5.000000</td>\n",
       "      <td>3.00000</td>\n",
       "      <td>16.250000</td>\n",
       "      <td>15.250000</td>\n",
       "      <td>18.000000</td>\n",
       "    </tr>\n",
       "    <tr>\n",
       "      <th>max</th>\n",
       "      <td>7.000000</td>\n",
       "      <td>6.000000</td>\n",
       "      <td>4.00000</td>\n",
       "      <td>19.000000</td>\n",
       "      <td>19.000000</td>\n",
       "      <td>19.000000</td>\n",
       "    </tr>\n",
       "  </tbody>\n",
       "</table>\n",
       "</div>"
      ],
      "text/plain": [
       "             wl1        wl2       wl3        se1        se2        se3\n",
       "count  12.000000  12.000000  12.00000  12.000000  12.000000  12.000000\n",
       "mean    5.333333   3.916667   2.25000  14.833333  13.750000  16.166667\n",
       "std     1.370689   1.378954   1.13818   2.367712   2.767506   2.516611\n",
       "min     3.000000   2.000000   1.00000  12.000000  11.000000  11.000000\n",
       "25%     4.000000   3.000000   1.00000  12.750000  11.000000  14.750000\n",
       "50%     5.500000   4.000000   2.00000  15.500000  14.000000  16.500000\n",
       "75%     6.250000   5.000000   3.00000  16.250000  15.250000  18.000000\n",
       "max     7.000000   6.000000   4.00000  19.000000  19.000000  19.000000"
      ]
     },
     "execution_count": 139,
     "metadata": {},
     "output_type": "execute_result"
    }
   ],
   "source": [
    "dietdf.describe()"
   ]
  },
  {
   "cell_type": "code",
   "execution_count": 140,
   "metadata": {},
   "outputs": [
    {
     "data": {
      "text/html": [
       "<div>\n",
       "<style scoped>\n",
       "    .dataframe tbody tr th:only-of-type {\n",
       "        vertical-align: middle;\n",
       "    }\n",
       "\n",
       "    .dataframe tbody tr th {\n",
       "        vertical-align: top;\n",
       "    }\n",
       "\n",
       "    .dataframe thead th {\n",
       "        text-align: right;\n",
       "    }\n",
       "</style>\n",
       "<table border=\"1\" class=\"dataframe\">\n",
       "  <thead>\n",
       "    <tr style=\"text-align: right;\">\n",
       "      <th></th>\n",
       "      <th>wl1</th>\n",
       "      <th>wl2</th>\n",
       "      <th>wl3</th>\n",
       "      <th>se1</th>\n",
       "      <th>se2</th>\n",
       "      <th>se3</th>\n",
       "    </tr>\n",
       "  </thead>\n",
       "  <tbody>\n",
       "    <tr>\n",
       "      <th>count</th>\n",
       "      <td>10.000000</td>\n",
       "      <td>10.000000</td>\n",
       "      <td>10.000000</td>\n",
       "      <td>10.000000</td>\n",
       "      <td>10.000000</td>\n",
       "      <td>10.000000</td>\n",
       "    </tr>\n",
       "    <tr>\n",
       "      <th>mean</th>\n",
       "      <td>6.200000</td>\n",
       "      <td>6.100000</td>\n",
       "      <td>2.200000</td>\n",
       "      <td>15.200000</td>\n",
       "      <td>13.300000</td>\n",
       "      <td>17.600000</td>\n",
       "    </tr>\n",
       "    <tr>\n",
       "      <th>std</th>\n",
       "      <td>2.250926</td>\n",
       "      <td>1.449138</td>\n",
       "      <td>1.229273</td>\n",
       "      <td>1.316561</td>\n",
       "      <td>1.888562</td>\n",
       "      <td>0.966092</td>\n",
       "    </tr>\n",
       "    <tr>\n",
       "      <th>min</th>\n",
       "      <td>3.000000</td>\n",
       "      <td>4.000000</td>\n",
       "      <td>1.000000</td>\n",
       "      <td>13.000000</td>\n",
       "      <td>11.000000</td>\n",
       "      <td>16.000000</td>\n",
       "    </tr>\n",
       "    <tr>\n",
       "      <th>25%</th>\n",
       "      <td>4.500000</td>\n",
       "      <td>5.000000</td>\n",
       "      <td>1.000000</td>\n",
       "      <td>15.000000</td>\n",
       "      <td>12.000000</td>\n",
       "      <td>17.000000</td>\n",
       "    </tr>\n",
       "    <tr>\n",
       "      <th>50%</th>\n",
       "      <td>6.500000</td>\n",
       "      <td>6.000000</td>\n",
       "      <td>2.000000</td>\n",
       "      <td>15.500000</td>\n",
       "      <td>13.000000</td>\n",
       "      <td>17.500000</td>\n",
       "    </tr>\n",
       "    <tr>\n",
       "      <th>75%</th>\n",
       "      <td>7.750000</td>\n",
       "      <td>7.000000</td>\n",
       "      <td>3.000000</td>\n",
       "      <td>16.000000</td>\n",
       "      <td>13.750000</td>\n",
       "      <td>18.000000</td>\n",
       "    </tr>\n",
       "    <tr>\n",
       "      <th>max</th>\n",
       "      <td>9.000000</td>\n",
       "      <td>9.000000</td>\n",
       "      <td>4.000000</td>\n",
       "      <td>17.000000</td>\n",
       "      <td>17.000000</td>\n",
       "      <td>19.000000</td>\n",
       "    </tr>\n",
       "  </tbody>\n",
       "</table>\n",
       "</div>"
      ],
      "text/plain": [
       "             wl1        wl2        wl3        se1        se2        se3\n",
       "count  10.000000  10.000000  10.000000  10.000000  10.000000  10.000000\n",
       "mean    6.200000   6.100000   2.200000  15.200000  13.300000  17.600000\n",
       "std     2.250926   1.449138   1.229273   1.316561   1.888562   0.966092\n",
       "min     3.000000   4.000000   1.000000  13.000000  11.000000  16.000000\n",
       "25%     4.500000   5.000000   1.000000  15.000000  12.000000  17.000000\n",
       "50%     6.500000   6.000000   2.000000  15.500000  13.000000  17.500000\n",
       "75%     7.750000   7.000000   3.000000  16.000000  13.750000  18.000000\n",
       "max     9.000000   9.000000   4.000000  17.000000  17.000000  19.000000"
      ]
     },
     "execution_count": 140,
     "metadata": {},
     "output_type": "execute_result"
    }
   ],
   "source": [
    "dietex.describe()"
   ]
  },
  {
   "cell_type": "code",
   "execution_count": 150,
   "metadata": {},
   "outputs": [
    {
     "data": {
      "image/png": "[encoded data removed]",
      "text/plain": [
       "<Figure size 432x288 with 1 Axes>"
      ]
     },
     "metadata": {
      "needs_background": "light"
     },
     "output_type": "display_data"
    }
   ],
   "source": [
    "# Weight loss at 1 month for CONTROL group \n",
    "X = controldf.loc[:,'wl1'].values.reshape(-1, 1) \n",
    "# Self esteem at 1 month\n",
    "Y = controldf.loc[:,'se1'].values.reshape(-1, 1) \n",
    "\n",
    "linear_regressor = LinearRegression() \n",
    "linear_regressor.fit(X, Y)  \n",
    "Y_pred = linear_regressor.predict(X)\n",
    "\n",
    "plt.scatter(X, Y)\n",
    "plt.plot(X, Y_pred, color='red')\n",
    "plt.show()"
   ]
  },
  {
   "cell_type": "code",
   "execution_count": 148,
   "metadata": {},
   "outputs": [
    {
     "data": {
      "text/plain": [
       "0.3529079616036137"
      ]
     },
     "execution_count": 148,
     "metadata": {},
     "output_type": "execute_result"
    }
   ],
   "source": [
    "linear_regressor.score(X,Y)"
   ]
  },
  {
   "cell_type": "code",
   "execution_count": 151,
   "metadata": {},
   "outputs": [
    {
     "data": {
      "image/png": "[encoded data removed]",
      "text/plain": [
       "<Figure size 432x288 with 1 Axes>"
      ]
     },
     "metadata": {
      "needs_background": "light"
     },
     "output_type": "display_data"
    }
   ],
   "source": [
    "# Weight loss at 1 month for DIET group \n",
    "X = dietdf.loc[:,'wl1'].values.reshape(-1, 1) \n",
    "# Self esteem at 1 month\n",
    "Y = dietdf.loc[:,'se1'].values.reshape(-1, 1) \n",
    "\n",
    "linear_regressor = LinearRegression() \n",
    "linear_regressor.fit(X, Y)  \n",
    "Y_pred = linear_regressor.predict(X)\n",
    "\n",
    "plt.scatter(X, Y)\n",
    "plt.plot(X, Y_pred, color='red')\n",
    "plt.show()"
   ]
  },
  {
   "cell_type": "code",
   "execution_count": 152,
   "metadata": {},
   "outputs": [
    {
     "data": {
      "text/plain": [
       "0.27340889276373126"
      ]
     },
     "execution_count": 152,
     "metadata": {},
     "output_type": "execute_result"
    }
   ],
   "source": [
    "linear_regressor.score(X,Y)"
   ]
  },
  {
   "cell_type": "code",
   "execution_count": 153,
   "metadata": {},
   "outputs": [
    {
     "data": {
      "image/png": "[encoded data removed]",
      "text/plain": [
       "<Figure size 432x288 with 1 Axes>"
      ]
     },
     "metadata": {
      "needs_background": "light"
     },
     "output_type": "display_data"
    }
   ],
   "source": [
    "# Weight loss at 1 month for DIETEX group \n",
    "X = dietex.loc[:,'wl1'].values.reshape(-1, 1) \n",
    "# Self esteem at 1 month\n",
    "Y = dietex.loc[:,'se1'].values.reshape(-1, 1) \n",
    "\n",
    "linear_regressor = LinearRegression() \n",
    "linear_regressor.fit(X, Y)  \n",
    "Y_pred = linear_regressor.predict(X)\n",
    "\n",
    "plt.scatter(X, Y)\n",
    "plt.plot(X, Y_pred, color='red')\n",
    "plt.show()"
   ]
  },
  {
   "cell_type": "code",
   "execution_count": 154,
   "metadata": {},
   "outputs": [
    {
     "data": {
      "text/plain": [
       "0.009502923976608235"
      ]
     },
     "execution_count": 154,
     "metadata": {},
     "output_type": "execute_result"
    }
   ],
   "source": [
    "linear_regressor.score(X,Y)"
   ]
  },
  {
   "cell_type": "code",
   "execution_count": null,
   "metadata": {},
   "outputs": [],
   "source": [
    "c = controldf.loc[:,'wl1'].values\n",
    "d = dietdf.loc[:,'wl1'].values\n",
    "dex = dietexdf.loc[:,'wl1'].values"
   ]
  }
 ],
 "metadata": {
  "kernelspec": {
   "display_name": "Python 3",
   "language": "python",
   "name": "python3"
  },
  "language_info": {
   "codemirror_mode": {
    "name": "ipython",
    "version": 3
   },
   "file_extension": ".py",
   "mimetype": "text/x-python",
   "name": "python",
   "nbconvert_exporter": "python",
   "pygments_lexer": "ipython3",
   "version": "3.7.1"
  }
 },
 "nbformat": 4,
 "nbformat_minor": 2
}
