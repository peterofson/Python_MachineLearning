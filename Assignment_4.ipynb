{
    "cells": [
        {
            "cell_type": "markdown",
            "metadata": {
                "nbgrader": {
                    "grade": false,
                    "locked": true,
                    "solution": false
                }
            },
            "source": [
                "# K-Nearest Neighbor (KNN) Project\n",
                "---\n",
                "\n",
                "_Authors: Carleton Smith; W.P.G.Peterson_\n",
                "\n",
                "\n",
                "## Project Guide\n",
                "---\n",
                "- [Project Overview](#project-overview)  \n",
                "- [Part 1: Acquire, Explore, and Preprocess Data](#part1)\n",
                "- [Part 2: Code KNN](#part2)  \n",
                "    -[KNN in sklearn](#sklearn)\n",
                "- [Part 3: Interpret Results](#part3)\n",
                "\n",
                "\n",
                "<a id=\"project-overview\"><\/a>\n",
                "## Project Overview\n",
                "---\n",
                "#### EXPECTED TIME: 3 HRS  \n",
                "\n",
                "This project has 3 parts:\n",
                "\n",
                "- Part 1: Familiarize yourself with the problem and data\n",
                "- Part 2: Code a KNN Classifier from scratch, evaluate performance, and compare to Scikit-Learn's implementation\n",
                "- Part 3: Interpret results and explain findings.\n",
                "\n",
                "This will include:\n",
                "- Answering simple questions regarding the data  \n",
                "- Manipulating multiple DataFrames  \n",
                "- Coding functions to:  \n",
                "    - Calculate Euclidean distance\n",
                "    - Calculate distance between many pairs of points\n",
                "    - Implement a majority voting system\n",
                "    - Combine the above to create a custom KNN algorithm\n",
                "- Use `KNeighborsClassifier` in `sklearn`  \n",
                "\n",
                "**Motivation**: KNN is a reasonably simple algorithm that is easy to grasp and can be very effective.\n",
                "\n",
                "**Objectives**: By the end of this assignment, you will:\n",
                "- Have a firm understanding of the KNN algorithm\n",
                "- Have practiced running through the data science workflow to solve a problem\n",
                "- Will demonstate how to translate a mathematical algorithm into effective code\n",
                "- Understand common pitfalls when working with distances\n",
                "\n",
                "**Problem**: Classify the type of activity a person is performing based on measurements collected from a smartphone. The activities include:  \n",
                "- Walking\n",
                "- Walking_Upstairs\n",
                "- Walking_Downstairs\n",
                "- Sitting\n",
                "- Standing\n",
                "- Laying\n",
                "\n",
                "\n",
                "**Dataset**: [_Human Activity Recognition Using Smartphones Data Set_](https:\/\/archive.ics.uci.edu\/ml\/datasets\/human+activity+recognition+using+smartphones) from the UC Irvine Machine Learning Repositiory.  \n",
                "\n",
                "Dataset description as provided in the original authors:\n",
                "\n",
                "---\n",
                "```\n",
                "The experiments have been carried out with a group of 30 volunteers within an age bracket of 19-48 years. Each person performed six activities (WALKING, WALKING_UPSTAIRS, WALKING_DOWNSTAIRS, SITTING, STANDING, LAYING) wearing a smartphone (Samsung Galaxy S II) on the waist. Using its embedded accelerometer and gyroscope, we captured 3-axial linear acceleration and 3-axial angular velocity at a constant rate of 50Hz. The experiments have been video-recorded to label the data manually. The obtained dataset has been randomly partitioned into two sets, where 70% of the volunteers was selected for generating the training data and 30% the test data. \n",
                "\n",
                "The sensor signals (accelerometer and gyroscope) were pre-processed by applying noise filters and then sampled in fixed-width sliding windows of 2.56 sec and 50% overlap (128 readings\/window). The sensor acceleration signal, which has gravitational and body motion components, was separated using a Butterworth low-pass filter into body acceleration and gravity. The gravitational force is assumed to have only low frequency components, therefore a filter with 0.3 Hz cutoff frequency was used. From each window, a vector of features was obtained by calculating variables from the time and frequency domain. See 'features_info.txt' for more details. \n",
                "\n",
                "For each record it is provided:\n",
                "======================================\n",
                "\n",
                "- Triaxial acceleration from the accelerometer (total acceleration) and the estimated body acceleration.\n",
                "- Triaxial Angular velocity from the gyroscope. \n",
                "- A 561-feature vector with time and frequency domain variables. \n",
                "- Its activity label. \n",
                "- An identifier of the subject who carried out the experiment.\n",
                "```\n",
                "\n",
                "Please see the [Data Folder](https:\/\/archive.ics.uci.edu\/ml\/machine-learning-databases\/00240\/) to explore the data files further.\n",
                "\n",
                "---"
            ]
        },
        {
            "cell_type": "markdown",
            "metadata": {
                "nbgrader": {
                    "grade": false,
                    "locked": true,
                    "solution": false
                }
            },
            "source": [
                "<a id=\"part1\"><\/a>\n",
                "## Part 1: Acquire, Explore, and Preprocess Data\n",
                "---"
            ]
        },
        {
            "cell_type": "markdown",
            "metadata": {
                "nbgrader": {
                    "grade": false,
                    "locked": true,
                    "solution": false
                }
            },
            "source": [
                "### Import Libraries and Data"
            ]
        },
        {
            "cell_type": "code",
            "execution_count": null,
            "metadata": {
                "collapsed": true,
                "nbgrader": {
                    "grade": false,
                    "locked": true,
                    "solution": false
                }
            },
            "outputs": [],
            "source": [
                "import numpy as np\n",
                "import pandas as pd\n",
                "import matplotlib.pyplot as plt\n",
                "import seaborn as sns\n",
                "%matplotlib inline"
            ]
        },
        {
            "cell_type": "markdown",
            "metadata": {
                "nbgrader": {
                    "grade": false,
                    "locked": true,
                    "solution": false
                }
            },
            "source": [
                "#### Read in the training data"
            ]
        },
        {
            "cell_type": "code",
            "execution_count": null,
            "metadata": {
                "collapsed": true,
                "nbgrader": {
                    "grade": false,
                    "locked": true,
                    "solution": false
                }
            },
            "outputs": [],
            "source": [
                "FEATURE_NAMES = '..\/resource\/asnlib\/publicdata\/features.txt'\n",
                "TRAIN_DATA = '..\/resource\/asnlib\/publicdata\/X_train.txt'\n",
                "TRAIN_LABELS = '..\/resource\/asnlib\/publicdata\/y_train.txt'"
            ]
        },
        {
            "cell_type": "code",
            "execution_count": null,
            "metadata": {
                "collapsed": true,
                "nbgrader": {
                    "grade": false,
                    "locked": true,
                    "solution": false
                }
            },
            "outputs": [],
            "source": [
                "# read feature names\n",
                "feats = pd.read_table(FEATURE_NAMES, sep='\\n', header=None)\n",
                "\n",
                "# read in training data\n",
                "har_train = pd.read_table(TRAIN_DATA, sep='\\s+', header=None)\n",
                "\n",
                "# read in training labels\n",
                "har_train_labels = pd.read_table(TRAIN_LABELS, sep='\\n', header=None, names=[\"label\"], squeeze = True)"
            ]
        },
        {
            "cell_type": "markdown",
            "metadata": {
                "nbgrader": {
                    "grade": false,
                    "locked": true,
                    "solution": false
                }
            },
            "source": [
                "### Explore the Data"
            ]
        },
        {
            "cell_type": "markdown",
            "metadata": {
                "nbgrader": {
                    "grade": false,
                    "locked": true,
                    "solution": false
                }
            },
            "source": [
                "**Print out the first five rows of the training data (`har_train`) -- does everything look okay?**"
            ]
        },
        {
            "cell_type": "code",
            "execution_count": null,
            "metadata": {
                "collapsed": true,
                "nbgrader": {
                    "grade": false,
                    "locked": true,
                    "solution": false
                }
            },
            "outputs": [],
            "source": [
                "har_train.head()"
            ]
        },
        {
            "cell_type": "markdown",
            "metadata": {
                "nbgrader": {
                    "grade": false,
                    "locked": true,
                    "solution": false
                }
            },
            "source": [
                "#### Question 1\n",
                "How many rows and columns are in `har_train`?\n"
            ]
        },
        {
            "cell_type": "code",
            "execution_count": null,
            "metadata": {
                "collapsed": true,
                "scrolled": true
            },
            "outputs": [],
            "source": [
                "### GRADED\n",
                "\n",
                "### Find out how many rows and columns are in har_train\n",
                "### Assign the tuple of (<rows>, <cols>) to ans1\n",
                "### For your reference you may also want to print out the nubmer of rows and columns\n",
                "\n",
                "### YOUR ANSWER BELOW\n",
                "\n",
                "ans1 = (0,0)"
            ]
        },
        {
            "cell_type": "code",
            "execution_count": null,
            "metadata": {
                "collapsed": true,
                "nbgrader": {
                    "grade": true,
                    "grade_id": "Question 1",
                    "locked": true,
                    "points": "5",
                    "solution": false
                }
            },
            "outputs": [],
            "source": [
                "###\n",
                "### AUTOGRADER TEST - DO NOT REMOVE\n",
                "###\n"
            ]
        },
        {
            "cell_type": "markdown",
            "metadata": {
                "nbgrader": {
                    "grade": false,
                    "locked": true,
                    "solution": false
                }
            },
            "source": [
                "**Print the first 5 rows of `feats` - the DataFrame of feature names.**"
            ]
        },
        {
            "cell_type": "code",
            "execution_count": null,
            "metadata": {
                "collapsed": true,
                "nbgrader": {
                    "grade": false,
                    "locked": true,
                    "solution": false
                }
            },
            "outputs": [],
            "source": [
                "feats.head()"
            ]
        },
        {
            "cell_type": "markdown",
            "metadata": {
                "nbgrader": {
                    "grade": false,
                    "locked": true,
                    "solution": false
                }
            },
            "source": [
                "\n",
                "**Change the names of columns via the `.columns` attribute**"
            ]
        },
        {
            "cell_type": "code",
            "execution_count": null,
            "metadata": {
                "collapsed": true,
                "nbgrader": {
                    "grade": false,
                    "locked": true,
                    "solution": false
                }
            },
            "outputs": [],
            "source": [
                "har_train.columns = feats.iloc[:,0]\n",
                "har_train.head()"
            ]
        },
        {
            "cell_type": "markdown",
            "metadata": {
                "nbgrader": {
                    "grade": false,
                    "locked": true,
                    "solution": false
                }
            },
            "source": [
                "#### Question 2\n",
                "Are there missing values?\n"
            ]
        },
        {
            "cell_type": "code",
            "execution_count": null,
            "metadata": {
                "collapsed": true
            },
            "outputs": [],
            "source": [
                "### GRADED\n",
                "### How many \"null\" values are in the `har_train` dataframe\n",
                "### Assign int answer to ans1\n",
                "\n",
                "### YOUR ANSWER BELOW\n",
                "\n",
                "ans1 = \"\""
            ]
        },
        {
            "cell_type": "code",
            "execution_count": null,
            "metadata": {
                "collapsed": true,
                "nbgrader": {
                    "grade": true,
                    "grade_id": "Question 2",
                    "locked": true,
                    "points": "5",
                    "solution": false
                }
            },
            "outputs": [],
            "source": [
                "###\n",
                "### AUTOGRADER TEST - DO NOT REMOVE\n",
                "###\n"
            ]
        },
        {
            "cell_type": "markdown",
            "metadata": {
                "nbgrader": {
                    "grade": false,
                    "locked": true,
                    "solution": false
                }
            },
            "source": [
                "**Plot the correlation plot of the first 20 features (`har_train.iloc[:, :20])` with `seaborn`.**\n",
                "\n",
                "- Seaborn: https:\/\/seaborn.pydata.org\/examples\/many_pairwise_correlations.html"
            ]
        },
        {
            "cell_type": "code",
            "execution_count": null,
            "metadata": {
                "collapsed": true,
                "nbgrader": {
                    "grade": false,
                    "locked": true,
                    "solution": false
                }
            },
            "outputs": [],
            "source": [
                "# seaborn\n",
                "first_twenty = har_train.iloc[:, :20] # pull out first 20 feats\n",
                "corr = first_twenty.corr()  # compute correlation matrix\n",
                "mask = np.zeros_like(corr, dtype=np.bool)  # make mask\n",
                "mask[np.triu_indices_from(mask)] = True  # mask the upper triangle\n",
                "\n",
                "fig, ax = plt.subplots(figsize=(11, 9))  # create a figure and a subplot\n",
                "cmap = sns.diverging_palette(220, 10, as_cmap=True)  # custom color map\n",
                "sns.heatmap(\n",
                "    corr,\n",
                "    mask=mask,\n",
                "    cmap=cmap,\n",
                "    center=0,\n",
                "    linewidth=0.5,\n",
                "    cbar_kws={'shrink': 0.5}\n",
                ");"
            ]
        },
        {
            "cell_type": "markdown",
            "metadata": {
                "nbgrader": {
                    "grade": false,
                    "locked": true,
                    "solution": false
                }
            },
            "source": [
                "#### Question 3"
            ]
        },
        {
            "cell_type": "code",
            "execution_count": null,
            "metadata": {
                "collapsed": true
            },
            "outputs": [],
            "source": [
                "### GRADED\n",
                "### In looking at the graphic above:\n",
                "### True or False:\n",
                "### In these first 20 features, some are  highly correlated. e.g. With correlation >0.5 or < -0.5?\n",
                "### Assign boolean answer to ans1\n",
                "\n",
                "### YOUR ANSWER BELOW\n",
                "\n",
                "ans1 = ''"
            ]
        },
        {
            "cell_type": "code",
            "execution_count": null,
            "metadata": {
                "collapsed": true,
                "nbgrader": {
                    "grade": true,
                    "grade_id": "Question 3",
                    "locked": true,
                    "points": "5",
                    "solution": false
                }
            },
            "outputs": [],
            "source": [
                "###\n",
                "### AUTOGRADER TEST - DO NOT REMOVE\n",
                "###\n"
            ]
        },
        {
            "cell_type": "markdown",
            "metadata": {
                "nbgrader": {
                    "grade": false,
                    "locked": true,
                    "solution": false
                }
            },
            "source": [
                "EDA, as was performed (briefly) above is used to develop an idea of potential problems with data. Particularly with modeling, looking for Null \/ impossible values, and correlated features are important steps to:  \n",
                "1. See if any features will not be useful in models becuase of null values.\n",
                "2. See if any model assumptions are violated by correlated features (such as in linear \/ logistic regression)"
            ]
        },
        {
            "cell_type": "markdown",
            "metadata": {
                "nbgrader": {
                    "grade": false,
                    "locked": true,
                    "solution": false
                }
            },
            "source": [
                "**Switching to the target variable (`har_train_labels`).**"
            ]
        },
        {
            "cell_type": "markdown",
            "metadata": {
                "nbgrader": {
                    "grade": false,
                    "locked": true,
                    "solution": false
                }
            },
            "source": [
                "#### Question 4\n",
                "Investigate class sizes - are they unbalanced?"
            ]
        },
        {
            "cell_type": "code",
            "execution_count": null,
            "metadata": {
                "collapsed": true
            },
            "outputs": [],
            "source": [
                "### GRADED\n",
                "### How many times does the majority class appear in our data?\n",
                "### How many times does the minority class appear in our data?\n",
                "### Assign int to ans_maj and ans_min\n",
                "### YOUR ANSWER BELOW\n",
                "\n",
                "ans_maj = 0\n",
                "ans_min = 0"
            ]
        },
        {
            "cell_type": "code",
            "execution_count": null,
            "metadata": {
                "collapsed": true,
                "nbgrader": {
                    "grade": true,
                    "grade_id": "Question 4",
                    "locked": true,
                    "points": "5",
                    "solution": false
                }
            },
            "outputs": [],
            "source": [
                "###\n",
                "### AUTOGRADER TEST - DO NOT REMOVE\n",
                "###\n"
            ]
        },
        {
            "cell_type": "markdown",
            "metadata": {
                "nbgrader": {
                    "grade": false,
                    "locked": true,
                    "solution": false
                }
            },
            "source": [
                "While the activities are not perfectly represented equally, its fairly close.  \n",
                "A large imbalance in the distribution of the target variable categories can cause machine learning algorithms to train themselves well with the majority class, and perform poorly on the minority class."
            ]
        },
        {
            "cell_type": "markdown",
            "metadata": {
                "nbgrader": {
                    "grade": false,
                    "locked": true,
                    "solution": false
                }
            },
            "source": [
                "**Use the `.describe()` method along with `.groupby()` method to compare the statistics within each activity.**"
            ]
        },
        {
            "cell_type": "code",
            "execution_count": null,
            "metadata": {
                "collapsed": true,
                "nbgrader": {
                    "grade": false,
                    "locked": true,
                    "solution": false
                }
            },
            "outputs": [],
            "source": [
                "# concatenate the target variable\n",
                "# give target and observations conventional names\n",
                "y = har_train_labels \n",
                "X = har_train\n",
                "\n",
                "data = pd.concat([X, y], axis=1)\n",
                "data.shape "
            ]
        },
        {
            "cell_type": "code",
            "execution_count": null,
            "metadata": {
                "collapsed": true,
                "nbgrader": {
                    "grade": false,
                    "locked": true,
                    "solution": false
                },
                "scrolled": false
            },
            "outputs": [],
            "source": [
                "# group by the 'label' and show descriptive stats\n",
                "data.groupby('label').agg(['count', 'mean','std','min','max','median']).T.head(20)"
            ]
        },
        {
            "cell_type": "markdown",
            "metadata": {
                "nbgrader": {
                    "grade": false,
                    "locked": true,
                    "solution": false
                }
            },
            "source": [
                "**Summary**:  \n",
                "EDA should be tailored to your specific problem - to help develop and understanding of the data for a particular purpose. This is time consuming process when the data are large with many features. It's subject matter experts can guide initial explorations.  \n",
                "\n",
                "The above are examples of just a few of the things EDA should include when starting a project."
            ]
        },
        {
            "cell_type": "markdown",
            "metadata": {
                "nbgrader": {
                    "grade": false,
                    "locked": true,
                    "solution": false
                }
            },
            "source": [
                "With a feel for the data, now we will aside a \"test\" data-set that will allow us to evaluate out models.  \n",
                "\n",
                "`train_test_split` from `sklearn.model_selection` module provides an easy way to do this.  \n",
                "\n",
                "Setting `test_size=.3` and `random_state=24`."
            ]
        },
        {
            "cell_type": "code",
            "execution_count": null,
            "metadata": {
                "collapsed": true,
                "nbgrader": {
                    "grade": false,
                    "locked": true,
                    "solution": false
                }
            },
            "outputs": [],
            "source": [
                "from sklearn.model_selection import train_test_split\n",
                "\n",
                "X_train, X_test, y_train, y_test = train_test_split(X, y, test_size=.3, random_state=24)"
            ]
        },
        {
            "cell_type": "markdown",
            "metadata": {},
            "source": [
                "#### Question 5"
            ]
        },
        {
            "cell_type": "code",
            "execution_count": null,
            "metadata": {
                "collapsed": true
            },
            "outputs": [],
            "source": [
                "### GRADED\n",
                "### `test_size = .3` means:\n",
                "\n",
                "### 'a') the final 30% of the data is held out for the test data\n",
                "### 'b') any observations with \".3\" are held out\n",
                "### 'c') a random 30% of the data are held out\n",
                "### 'd') a random 70% of the data are held out\n",
                "### assign character associated with your choice to ans1 as a string\n",
                "\n",
                "### YOUR ANSWER BELOW\n",
                "\n",
                "ans1 = ''"
            ]
        },
        {
            "cell_type": "code",
            "execution_count": null,
            "metadata": {
                "collapsed": true,
                "nbgrader": {
                    "grade": true,
                    "grade_id": "Question 5",
                    "locked": true,
                    "points": "5",
                    "solution": false
                }
            },
            "outputs": [],
            "source": [
                "###\n",
                "### AUTOGRADER TEST - DO NOT REMOVE\n",
                "###\n"
            ]
        },
        {
            "cell_type": "markdown",
            "metadata": {
                "nbgrader": {
                    "grade": false,
                    "locked": true,
                    "solution": false
                }
            },
            "source": [
                "<a id=\"part2\"><\/a>\n",
                "## Part 2: Code KNN"
            ]
        },
        {
            "cell_type": "markdown",
            "metadata": {
                "nbgrader": {
                    "grade": false,
                    "locked": true,
                    "solution": false
                }
            },
            "source": [
                "Note: The following was adapted from example 2.1.2 in Chapter 2 of [_Machine Learning in Action_ by Peter Harrington](https:\/\/www.manning.com\/books\/machine-learning-in-action)."
            ]
        },
        {
            "cell_type": "markdown",
            "metadata": {
                "nbgrader": {
                    "grade": false,
                    "locked": true,
                    "solution": false
                }
            },
            "source": [
                "Before fitting a KNN model using built in functionality in the `sklearn` package, we will code our own version of KNN.  \n",
                "\n",
                "Given a value (with our movement-data, this \"value\" is better thought of as a vector of values) to be classified, KNN calculates the distance between that value and all other values in the training data-set. Then, the \"`k`\" nearest neighbors are polled as to their \"label\", and the given value is predicted to be of that majority value.  \n",
                "\n",
                "Thus we need to:\n",
                "\n",
                "**Create a function that accepts the following parameters:**  \n",
                "- A single data point to be classified (`input_vector`)\n",
                "- Training data (`X_train`)   \n",
                "- Labels for training data\n",
                "- Value for k (some positive integer)\n",
                "- Optional: Similarity Metric (Euclidean or Cosine)- This exercise will use [Euclidean](https:\/\/en.wikipedia.org\/wiki\/Euclidean_distance) for simplicity.  \n",
                "\n",
                "\n",
                "**Function Signature:**  \n",
                "`def my_knn(input_vector, X_train, y_train, k, [metric])`  \n",
                "\n",
                "**Pseudo Code:**  \n",
                "```\n",
                "for every point in our dataset:\n",
                "    calculate the distance between the current point and input_vector\n",
                "    sort the distances in increasing order\n",
                "    take k items with lowest disances to input_vector\n",
                "    find the majority class among these items\n",
                "    return the majority class label from the k closest neighbors\n",
                "```\n",
                "\n",
                "**Return:**   \n",
                "- The prediction for `input_vector`  "
            ]
        },
        {
            "cell_type": "markdown",
            "metadata": {
                "nbgrader": {
                    "grade": false,
                    "locked": true,
                    "solution": false
                }
            },
            "source": [
                "#### Question 6"
            ]
        },
        {
            "cell_type": "code",
            "execution_count": null,
            "metadata": {
                "collapsed": true
            },
            "outputs": [],
            "source": [
                "### GRADED\n",
                "### This exercise will use Euclidean distances.  \n",
                "### Please find the Euclidean distance between the points (1,2,3,-4,6) and (10,2,32,-2,0)\n",
                "### Assign distance as number to ans1\n",
                "### YOUR ANSWER BELOW\n",
                "\n",
                "p1 = (1,2,3,-4,6)\n",
                "p2 = (10,2,32,-2,0)\n",
                "\n",
                "ans1 = ''"
            ]
        },
        {
            "cell_type": "code",
            "execution_count": null,
            "metadata": {
                "collapsed": true,
                "nbgrader": {
                    "grade": true,
                    "grade_id": "Question 6",
                    "locked": true,
                    "points": "5",
                    "solution": false
                }
            },
            "outputs": [],
            "source": [
                "###\n",
                "### AUTOGRADER TEST - DO NOT REMOVE\n",
                "###\n"
            ]
        },
        {
            "cell_type": "markdown",
            "metadata": {
                "nbgrader": {
                    "grade": false,
                    "locked": true,
                    "solution": false
                }
            },
            "source": [
                "#### Question 7"
            ]
        },
        {
            "cell_type": "code",
            "execution_count": null,
            "metadata": {
                "collapsed": true
            },
            "outputs": [],
            "source": [
                "### GRADED\n",
                "### Code a function called \"euclid_dist\" \n",
                "\n",
                "### ACCEPT two inputs, points, represented as tuples in the format, (a1, b1,...n1), (a2, b2, ...n2).\n",
                "### RETURN the euclidean distance\n",
                "\n",
                "### Remember: \"**\" is the python operator for exponents.\n",
                "\n",
                "### YOUR ANSWER BELOW\n",
                "\n",
                "def euclid_dist(p1, p2):\n",
                "    \"\"\"\n",
                "    Calculate the Euclidian Distance between two points\n",
                "    \n",
                "    Positional Arguments:\n",
                "        p1 -- A tuple of n numbers\n",
                "        p2 -- A tuple of n numbers\n",
                "    \n",
                "    Example:\n",
                "        p1 = (5,5)\n",
                "        p2 = (0,0)\n",
                "        p3 = (5,6,7,8,9,10)\n",
                "        p4 = (1,2,3,4,5,6)\n",
                "        print(euclid_dist(p1,p2)) #--> 7.0710678118654755\n",
                "        print(euclid_dist(p3,p4)) #--> 9.797958971132712\n",
                "    \"\"\"\n",
                "    \n",
                "    return float()"
            ]
        },
        {
            "cell_type": "code",
            "execution_count": null,
            "metadata": {
                "collapsed": true,
                "nbgrader": {
                    "grade": true,
                    "grade_id": "Question 7",
                    "locked": true,
                    "points": "10",
                    "solution": false
                }
            },
            "outputs": [],
            "source": [
                "###\n",
                "### AUTOGRADER TEST - DO NOT REMOVE\n",
                "###\n"
            ]
        },
        {
            "cell_type": "markdown",
            "metadata": {
                "nbgrader": {
                    "grade": false,
                    "locked": true,
                    "solution": false
                }
            },
            "source": [
                "#### Distances with `numpy`\n",
                "The above exercise is a simple check for understanding. However, in our eventual KNN function we will use `numpy` to more efficiently calculate distances with the following code : `np.linalg.norm(np.array(p1)-np.array(p2))`.  \n",
                "\n",
                "Thankfully because `Pandas` uses `Numpy` \"under the hood\" we will not have to cast to numpy arrays with `np.arry()` instead it will look like:  \n",
                "`np.linalg.norm(row1 - row1)`  \n",
                "\n",
                "Now that we can easily calculate the distances between any two points, we can start to build our function."
            ]
        },
        {
            "cell_type": "markdown",
            "metadata": {
                "nbgrader": {
                    "grade": false,
                    "locked": true,
                    "solution": false
                }
            },
            "source": [
                "#### Question 8"
            ]
        },
        {
            "cell_type": "code",
            "execution_count": null,
            "metadata": {
                "collapsed": true
            },
            "outputs": [],
            "source": [
                "### GRADED\n",
                "### Code a function called \"all_distances\"\n",
                "### ACCEPT two inputs:\n",
                "### An observation from a data set.  e.g: har_train.iloc[50,:]\n",
                "### The full data set. e.g. har_train.\n",
                "\n",
                "### Create a <list> or numpy array of distances between:\n",
                "### ### that single point, and all points in the full dataset\n",
                "\n",
                "### RETURN the list of distances SORTED from smallest to largest.\n",
                "\n",
                "### Notes:\n",
                "### Use `np.linalg.norm()`, as described in above cell.\n",
                "### The smallest distance should be 0.\n",
                "\n",
                "### YOUR ANSWER BELOW\n",
                "\n",
                "\n",
                "def all_distances(test_point, data_set):\n",
                "    \"\"\"\n",
                "    Find and return a list of distances between the \"test_point\"\n",
                "    and all the points in \"data_set\", sorted from smallest to largest.\n",
                "    \n",
                "    Positional Arguments:\n",
                "        test_point -- a Pandas Series corresponding to a row in \"data_set\"\n",
                "        data_set -- a Pandas DataFrame\n",
                "    \n",
                "    Example:\n",
                "        test_point = har_train.iloc[50,:]\n",
                "        data_set = har_train\n",
                "        \n",
                "        print(all_distances(test_point, data_set)[:5])\n",
                "        #--> [0.0, 2.7970187358249854, 2.922792670143521, 2.966555149052483, 3.033982453218797]\n",
                "    \n",
                "    \"\"\"\n",
                "    return list()"
            ]
        },
        {
            "cell_type": "code",
            "execution_count": null,
            "metadata": {
                "collapsed": true,
                "nbgrader": {
                    "grade": true,
                    "grade_id": "Question 8",
                    "locked": true,
                    "points": "15",
                    "solution": false
                }
            },
            "outputs": [],
            "source": [
                "###\n",
                "### AUTOGRADER TEST - DO NOT REMOVE\n",
                "###\n"
            ]
        },
        {
            "cell_type": "markdown",
            "metadata": {
                "nbgrader": {
                    "grade": false,
                    "locked": true,
                    "solution": false
                }
            },
            "source": [
                "#### Question 9 \n",
                "\n",
                "Returning the value of a point and the label associated with that point:"
            ]
        },
        {
            "cell_type": "code",
            "execution_count": null,
            "metadata": {
                "collapsed": true,
                "nbgrader": {
                    "grade": false,
                    "locked": false,
                    "solution": false
                }
            },
            "outputs": [],
            "source": [
                "### GRADED\n",
                "### Code a function called \"labels_of_smallest\"\n",
                "### ACCEPT three inputs:\n",
                "### 1&2: numpy arrays, corresponding to 1: a numeric column and 2: a label column.\n",
                "### ### The i-th member of the numeric column corresponds to the i-th member of the label column\n",
                "### 3: an integer (>0); n.\n",
                "\n",
                "### RETURN a list (or numpy array) of the n labels corresponding to \n",
                "### ### the n smallest values in the numeric column.\n",
                "### NOTE: Make sure the order of labels corresponds to the order of values.\n",
                "\n",
                "### Hint: The labels are found in har_train_labels or y\n",
                "### Hint: `pd.concat()` might be useful for this or subsequent exercisces  \n",
                "### YOUR ANSWER BELOW\n",
                "\n",
                "def labels_of_smallest(numeric, labels, n):\n",
                "    \n",
                "    \"\"\"\n",
                "    Return the n labels corresponding to the n smallest values in the \"numeric\"\n",
                "    numpy array.\n",
                "    \n",
                "    Positional Arguments:\n",
                "        numeric -- a numpy array of numbers\n",
                "        labels -- a numpy array of labels (string or numeric)\n",
                "            corresponding to the values in \"numeric\"\n",
                "        n -- a positive integer\n",
                "        \n",
                "    Example:\n",
                "        numeric = np.array([7,6,5,4,3,2,1])\n",
                "        labels = np.array([\"a\",\"a\",\"b\",\"b\",\"b\",\"a\",\"a\"])\n",
                "        n = 6\n",
                "        \n",
                "        print(labels_of_smallest(numeric, labels, n))\n",
                "        #--> np.array(['a', 'a', 'b', 'b', 'b', 'a'])\n",
                "    \"\"\"\n",
                "    return np.array([])"
            ]
        },
        {
            "cell_type": "code",
            "execution_count": null,
            "metadata": {
                "collapsed": true,
                "nbgrader": {
                    "grade": true,
                    "grade_id": "Question 9",
                    "locked": true,
                    "points": "15",
                    "solution": false
                }
            },
            "outputs": [],
            "source": [
                "###\n",
                "### AUTOGRADER TEST - DO NOT REMOVE\n",
                "###\n"
            ]
        },
        {
            "cell_type": "markdown",
            "metadata": {
                "nbgrader": {
                    "grade": false,
                    "locked": true,
                    "solution": false
                }
            },
            "source": [
                "#### Question 10: \n",
                "Voting.\n",
                "Hint: look at [Counter](https:\/\/docs.python.org\/3\/library\/collections.html#collections.Counter) and `.most_common()`"
            ]
        },
        {
            "cell_type": "code",
            "execution_count": null,
            "metadata": {
                "collapsed": true
            },
            "outputs": [],
            "source": [
                "### GRADED\n",
                "from collections import Counter\n",
                "### Build a function called \"label_voting\"\n",
                "### ACCEPT a non-empty numpy array of labels as input\n",
                "### RETURN the value that appears most frequently in that array\n",
                "### In the case of of a tie, RETURN the value in the tie that appears first in the array\n",
                "\n",
                "\n",
                "### YOUR ANSWER BELOW\n",
                "\n",
                "def label_voting(labels):\n",
                "    \"\"\"\n",
                "    Given a numpy array of labels. Return the label that appears most frequently\n",
                "    If there is a tie for most frequent, return the label that appears first.\n",
                "    \n",
                "    Positional Argument:\n",
                "        labels -- a numpy array of labels\n",
                "    \n",
                "    Example:\n",
                "        lab1 = np.array([1,2,2,3,3])\n",
                "        lab2 = np.array([\"a\",\"a\",\"b\",\"b\",\"b\"])\n",
                "        \n",
                "        print(label_voting(lab1)) #--> 2\n",
                "        print(label_voting(lab2)) #--> \"b\"\n",
                "        \n",
                "    \"\"\"\n",
                "    \n",
                "    return True"
            ]
        },
        {
            "cell_type": "code",
            "execution_count": null,
            "metadata": {
                "collapsed": true,
                "nbgrader": {
                    "grade": true,
                    "grade_id": "Question 10",
                    "locked": true,
                    "points": "15",
                    "solution": false
                }
            },
            "outputs": [],
            "source": [
                "###\n",
                "### AUTOGRADER TEST - DO NOT REMOVE\n",
                "###\n"
            ]
        },
        {
            "cell_type": "markdown",
            "metadata": {
                "nbgrader": {
                    "grade": false,
                    "locked": true,
                    "solution": false
                }
            },
            "source": [
                "#### Question 11\n",
                "Time to put everything together.  \n",
                "\n",
                "Question 6\/7\/8 involved calculating distances.\n",
                "Question 9 involved sorting and returning n labels.\n",
                "Question 10 counted \"votes.\"\n",
                "\n",
                "The next question asks for a KNN modeling function:  \n",
                "\n",
                "Given four inputs: \n",
                "1. a single value from  X_test (created above in our `test_train_split`)  \n",
                "2. X_train  \n",
                "3. y_train (labels)   \n",
                "4. n - the number of nearest neighbors to poll in making predictions.\n",
                "\n",
                "Create a function that:\n",
                "1. Calculates the Euclidean distance between that X_test-point and every point in X_train\n",
                "2. Finds the labels from the \"n\" nearest neighbors (ordered from closest to furthest)\n",
                "3. Returns a prediction according to the voting rules outlined above (simple majority - tie goes to closest\/first)  \n",
                "\n",
                "Assign to \"`custom_KNN`\""
            ]
        },
        {
            "cell_type": "code",
            "execution_count": null,
            "metadata": {
                "collapsed": true
            },
            "outputs": [],
            "source": [
                "### GRADED\n",
                "### Follow directions above\n",
                "### YOUR ANSWER BELOW\n",
                "\n",
                "def custom_KNN( point, X_train, y_train, n):\n",
                "    \"\"\"\n",
                "    Predict the label for a single point, given training data and a specified\n",
                "    \"n\" number of neighbors.\n",
                "    \n",
                "    Positional Arguments:\n",
                "        point -- a pandas Series corresponding to an observation of a point with\n",
                "             unknown label.\n",
                "        x_train -- a pandas DataFrame corresponding to the measurements\n",
                "            of points in a dataset. Assume all values are numeric, and\n",
                "            observations are in the rows; features in the columns\n",
                "        y_train -- a pandas Series corresponding to the labels for the observations\n",
                "            in x_train\n",
                "    \n",
                "    Example:\n",
                "        point = pd.Series([1,2])\n",
                "        X_train = pd.DataFrame([[1,2],[3,4],[5,6]])\n",
                "        y_train = pd.Series([\"a\",\"a\",\"b\"])\n",
                "        n = 2\n",
                "        print(custom_KNN(point, X_train, y_train, n)) #--> 'a'\n",
                "    \"\"\"\n",
                "    pass"
            ]
        },
        {
            "cell_type": "code",
            "execution_count": null,
            "metadata": {
                "collapsed": true,
                "nbgrader": {
                    "grade": true,
                    "grade_id": "Question 11",
                    "locked": true,
                    "points": "5",
                    "solution": false
                },
                "scrolled": false
            },
            "outputs": [],
            "source": [
                "###\n",
                "### AUTOGRADER TEST - DO NOT REMOVE\n",
                "###\n"
            ]
        },
        {
            "cell_type": "markdown",
            "metadata": {
                "nbgrader": {
                    "grade": false,
                    "locked": true,
                    "solution": false
                }
            },
            "source": [
                "You should now have a functioning KNN classifier assigned to the function `customKNN`.\n",
                "\n",
                "Let's now see how good our classifier is using `n` = 5.  \n",
                "\n",
                "Be warned, the below cell may or may not complete runing on Vocareum due to processing constraints.  (The cell took 12.9s on my machine, using my fairly efficient function, a less efficient function took ~5.5mins).  \n",
                "\n",
                "**FOR FASTER GRADING, TRY COMMENTING OUT THE CELL BELOW**"
            ]
        },
        {
            "cell_type": "code",
            "execution_count": null,
            "metadata": {
                "collapsed": true,
                "nbgrader": {
                    "grade": false,
                    "locked": false,
                    "solution": false
                }
            },
            "outputs": [],
            "source": [
                "%%time\n",
                "\n",
                "# Create New tts\n",
                "X_train, X_test, y_train, y_test = train_test_split(X, y, test_size=.3, random_state=24)\n",
                "\n",
                "print(\"Total 'test' observations:\", len(X_test))\n",
                "print(\"Classifying every point in X_test would take too long - classify the first 200\")\n",
                "custom_preds = []\n",
                "for i, idx in enumerate(X_test.index[:200]):\n",
                "    if i % 100 == 0: print(i)\n",
                "    pred = custom_KNN(X_test.loc[idx,:], X_train, y_train, 5)\n",
                "    custom_preds.append(pred)"
            ]
        },
        {
            "cell_type": "markdown",
            "metadata": {
                "nbgrader": {
                    "grade": false,
                    "locked": true,
                    "solution": false
                }
            },
            "source": [
                "<a id = \"sklearn\"><\/a>\n",
                "### KNN in Sklearn\n",
                "\n",
                "While useful to see exactly how predictions are made using K-Nearest Neighbors, the `sklearn` has an implementation called [KNeighborsClassifier](http:\/\/scikit-learn.org\/stable\/modules\/generated\/sklearn.neighbors.KNeighborsClassifier.html) that will run much faster than our home-built version.  "
            ]
        },
        {
            "cell_type": "code",
            "execution_count": null,
            "metadata": {
                "collapsed": true,
                "nbgrader": {
                    "grade": false,
                    "locked": true,
                    "solution": false
                }
            },
            "outputs": [],
            "source": [
                "%%time\n",
                "# Import\n",
                "from sklearn.neighbors import KNeighborsClassifier\n",
                "from sklearn.metrics import classification_report\n",
                "\n",
                "# Instantiate classifier\n",
                "# NB: Default distance is Euclidean\n",
                "knn = KNeighborsClassifier(n_neighbors = 5)\n",
                "\n",
                "# Fit model with training data\n",
                "knn.fit(X_train, y_train)\n",
                "\n",
                "# Create predictions for first 200 test observations\n",
                "# # (As was done above with customKNN)\n",
                "skpreds = knn.predict(X_test[:200])\n",
                "\n",
                "print(\"sklearn prediction performance\")\n",
                "print(classification_report(y_test[:200], skpreds))\n",
                "\n",
                "\n",
                "### The below lines of code will compare the performance of your home-built classification with\n",
                "### The sklearn predictions -- if all the cells above were run sucessfully, you should see identical scores\n",
                "\n",
                "print(\"\\nHome-Built prediction performance\")\n",
                "print(classification_report(y_test[:200], custom_preds))\n",
                "\n",
                "\n",
                "### The below lines of code will explicitly compare predictions:\n",
                "### \"differences\" should == 0!\n",
                "\n",
                "### NB: Commenting\/uncommenting multiple lines in Jupyter can be accomplished with:\n",
                "### <ctrl-\/> on windows and <cmd-\/> on mac\n",
                "differences = 0\n",
                "for cust, sk in zip(custom_preds, skpreds):\n",
                "    if cust != sk:\n",
                "        differences +=1\n",
                "print(\"Total Differences:\", differences)"
            ]
        },
        {
            "cell_type": "markdown",
            "metadata": {
                "nbgrader": {
                    "grade": false,
                    "locked": true,
                    "solution": false
                }
            },
            "source": [
                "#### Practice with `sklearn`:  \n",
                "\n",
                "The below questions will ask you to create a new test\/train split, and fit a new KNN model with `sklearn`.  \n",
                "\n",
                "All of these steps have already been performed above. Feel free to reference."
            ]
        },
        {
            "cell_type": "code",
            "execution_count": null,
            "metadata": {
                "collapsed": true,
                "nbgrader": {
                    "grade": false,
                    "locked": true,
                    "solution": false
                }
            },
            "outputs": [],
            "source": [
                "# Ensure Data is consistent\n",
                "\n",
                "# read feature names\n",
                "feats = pd.read_table(FEATURE_NAMES, sep='\\n', header=None)\n",
                "\n",
                "# read in training data\n",
                "har_train = pd.read_table(TRAIN_DATA, sep='\\s+', header=None)\n",
                "\n",
                "# read in training labels, and clean them.\n",
                "har_train_labels = pd.read_table(TRAIN_LABELS, sep='\\n', header=None)\n",
                "clean_features = [feat[0].split(' ')[1] for feat in feats.values]\n",
                "har_train.columns = clean_features\n",
                "\n",
                "har_train_labels = pd.read_table(TRAIN_LABELS, sep='\\n', header=None)\n",
                "har_train_labels.columns = ['label']\n",
                "y = har_train_labels.loc[:, 'label']"
            ]
        },
        {
            "cell_type": "markdown",
            "metadata": {
                "nbgrader": {
                    "grade": false,
                    "locked": true,
                    "solution": false
                }
            },
            "source": [
                "#### Question 12\n",
                "Train Test Split"
            ]
        },
        {
            "cell_type": "code",
            "execution_count": null,
            "metadata": {
                "collapsed": true
            },
            "outputs": [],
            "source": [
                "### GRADED\n",
                "### Making a new test-train-split on our data:\n",
                "### ### labels found in \"y\" and observations in `har_train`\n",
                "### ### For split, specify - test_size of .4 and a random_state of 1738.\n",
                "### assign output from the split to X_train2, X_test2, y_train2, y_test2 -- take care, the \"X\"s are capitlaized\n",
                "### and the \"y\"s are lower-case.\n",
                "### Which of the following would accomplish that task?\n",
                "\n",
                "### 'a') X_train2, X_test2, y_train2, y_test2 = train_test_split(har_train, y, test_size = .4, random_state = 1738)\n",
                "### 'b') X_train2, X_test2, y_train2, y_test2 = train_test_split(har_train, y, train_size = .4, random_state = 1738)\n",
                "### 'c') X_train2, X_test2, y_train2, y_test2 = train_test_split(har_train, y, .4, 1738)\n",
                "### 'd') X_train2, X_test2, y_train2, y_test2 = train_test_split(har_train, y, t_size = .4, rs = 1738)\n",
                "\n",
                "### Assign character associated with you choice as string to ans1\n",
                "### YOUR ANSWER BELOW\n",
                "\n",
                "ans1 = ''"
            ]
        },
        {
            "cell_type": "code",
            "execution_count": null,
            "metadata": {
                "collapsed": true,
                "nbgrader": {
                    "grade": true,
                    "grade_id": "Question 12",
                    "locked": true,
                    "points": "10",
                    "solution": false
                }
            },
            "outputs": [],
            "source": [
                "###\n",
                "### AUTOGRADER TEST - DO NOT REMOVE\n",
                "###\n"
            ]
        },
        {
            "cell_type": "markdown",
            "metadata": {
                "nbgrader": {
                    "grade": false,
                    "locked": true,
                    "solution": false
                }
            },
            "source": [
                "#### Question 13"
            ]
        },
        {
            "cell_type": "code",
            "execution_count": null,
            "metadata": {
                "collapsed": true,
                "nbgrader": {
                    "grade": false,
                    "locked": true,
                    "solution": false
                }
            },
            "outputs": [],
            "source": [
                "### This cell creates X_train3, X_test3, y_train3, and y_test3; used below.\n",
                "\n",
                "X_train3, X_test3, y_train3, y_test3 = train_test_split(har_train, y, test_size = .4, random_state = 2001)\n"
            ]
        },
        {
            "cell_type": "code",
            "execution_count": null,
            "metadata": {
                "collapsed": true
            },
            "outputs": [],
            "source": [
                "### GRADED\n",
                "### Build a KNN classifier using sklearn.\n",
                "### ### specify n_neighbors as 10. Otherwise accept the `KNeighborsClassifier` defaults.\n",
                "\n",
                "### Fit the model using the provided \"X_train3\" and \"y_train3\" variables, from above cell.\n",
                "### assign the predictions from your model for the provided \"X_test3\" data to a variable called ans1.\n",
                "### YOUR ANSWER BELOW\n",
                "\"\"\"\n",
                "Example:\n",
                "\n",
                "# Code for Instantiating a KNN Model\n",
                "\n",
                "# Fit KNN with X_train3 and y_train3\n",
                "\n",
                "# Create Predictions on X_test3\n",
                "\n",
                "ans1 = preds\n",
                "\n",
                "print(ans1[:5])\n",
                "#-->np.array([6 5 1 6 4])\n",
                "\n",
                "### NOTE: Your predictions may look different due to how \"random_state\" depends on current time.\n",
                "\"\"\"\n",
                "\n",
                "ans1 = np.array([])\n"
            ]
        },
        {
            "cell_type": "code",
            "execution_count": null,
            "metadata": {
                "collapsed": true,
                "nbgrader": {
                    "grade": true,
                    "grade_id": "Question 13",
                    "locked": true,
                    "points": "10",
                    "solution": false
                }
            },
            "outputs": [],
            "source": [
                "###\n",
                "### AUTOGRADER TEST - DO NOT REMOVE\n",
                "###\n"
            ]
        },
        {
            "cell_type": "markdown",
            "metadata": {
                "nbgrader": {
                    "grade": false,
                    "locked": true,
                    "solution": false
                }
            },
            "source": [
                "Building a model using sklearn is just as easy as those last two steps! As long as your data is in the right format, once you make your train\/test split, the syntax for fitting pretty much any of the models in `sklearn` is about the same.   \n",
                "\n",
                "<a id=\"part3\"><\/a>\n",
                "## Part 3: Interpret Results\n",
                "\n",
                "For interpreting results we will be looking at the tradeoff between bias and variance as we change our `n_neighbors`. In many cases, false negatives are more costly and false positives. As such we will be looking primarily at the change in recall as we build a number of different models.  \n",
                "\n",
                "Note: The below takes some time to run. ~ 3.5min. Thus output is provided as screenshot below"
            ]
        },
        {
            "cell_type": "code",
            "execution_count": null,
            "metadata": {
                "collapsed": true,
                "nbgrader": {
                    "grade": false,
                    "locked": true,
                    "solution": false
                }
            },
            "outputs": [],
            "source": [
                "# %%time\n",
                "# from sklearn.metrics import recall_score\n",
                "\n",
                "### Calculating Recal scores for multiple \"n-neighbors\"\n",
                "# recall_scores = {}\n",
                "# for n in [1,2,3,4,5,6,7,8,9,10,11,12,13,14,15,20,25,50,75,100]:\n",
                "#     knn = KNeighborsClassifier(n_neighbors=n)\n",
                "#     knn.fit(X_train, y_train)\n",
                "#     recall_scores[n] = recall_score(y_test, knn.predict(X_test), average = None)\n",
                "    \n",
                "### Put recall scores into DataFrame\n",
                "# scores_df = pd.DataFrame(recall_scores).T\n",
                "# scores_df.columns = [str(i) for i in range(1,7)]\n",
                "# scores_df.index = scores_df.index.astype(str)\n",
                "\n",
                "### Create plot of recall scores\n",
                "# plt.figure(figsize = (10,10))\n",
                "# for col in scores_df:\n",
                "#     if col != 'n_neighbors':\n",
                "#         plt.plot(scores_df[col], label = col)\n",
                "    \n",
                "# plt.ylabel(\" Recall Score\", fontsize = 12)\n",
                "# plt.xlabel(\"n_neighbors (NB: not an interval scale)\", fontsize = 12)\n",
                "# plt.legend(title = \"activity\");"
            ]
        },
        {
            "cell_type": "markdown",
            "metadata": {
                "nbgrader": {
                    "grade": false,
                    "locked": true,
                    "solution": false
                }
            },
            "source": [
                "#### Output\n",
                "![recall](.\/assets\/recall.PNG)  \n",
                "\n",
                "#### Question 14"
            ]
        },
        {
            "cell_type": "code",
            "execution_count": null,
            "metadata": {
                "collapsed": true
            },
            "outputs": [],
            "source": [
                "### GRADED\n",
                "### Looking at the recall scores above;\n",
                "### as n_neighbors trends towards 100 do we see in increase in:\n",
                "\n",
                "### 'a') bias\n",
                "### 'b') variance\n",
                "\n",
                "### Assign the string associated with your choice to ans1\n",
                "### YOUR ANSWER BELOW\n",
                "\n",
                "ans1 = ''"
            ]
        },
        {
            "cell_type": "code",
            "execution_count": null,
            "metadata": {
                "collapsed": true,
                "nbgrader": {
                    "grade": true,
                    "grade_id": "Question 14",
                    "locked": true,
                    "points": "5",
                    "solution": false
                }
            },
            "outputs": [],
            "source": [
                "###\n",
                "### AUTOGRADER TEST - DO NOT REMOVE\n",
                "###\n"
            ]
        },
        {
            "cell_type": "markdown",
            "metadata": {
                "nbgrader": {
                    "grade": false,
                    "locked": true,
                    "solution": false
                }
            },
            "source": [
                "#### Question 15"
            ]
        },
        {
            "cell_type": "code",
            "execution_count": null,
            "metadata": {
                "collapsed": true,
                "nbgrader": {
                    "grade": false,
                    "locked": false,
                    "solution": false
                }
            },
            "outputs": [],
            "source": [
                "### GRADED\n",
                "### In looking at the recall scores above, does it look like the bestter KNN models have:\n",
                "\n",
                "### 'a') n_neighbors >= 15\n",
                "### 'b') n_neigbors < 15\n",
                "\n",
                "### Assign the string associated with your shoice to ans1\n",
                "### YOUR ANSWER BELOW\n",
                "\n",
                "ans1 = ''"
            ]
        },
        {
            "cell_type": "code",
            "execution_count": null,
            "metadata": {
                "collapsed": true,
                "nbgrader": {
                    "grade": true,
                    "grade_id": "Question 15",
                    "locked": true,
                    "points": "5",
                    "solution": false
                }
            },
            "outputs": [],
            "source": [
                "###\n",
                "### AUTOGRADER TEST - DO NOT REMOVE\n",
                "###\n"
            ]
        },
        {
            "cell_type": "markdown",
            "metadata": {
                "nbgrader": {
                    "grade": false,
                    "locked": true,
                    "solution": false
                }
            },
            "source": [
                "#### Question 16"
            ]
        },
        {
            "cell_type": "code",
            "execution_count": null,
            "metadata": {
                "collapsed": true
            },
            "outputs": [],
            "source": [
                "### GRADED\n",
                "### What might explain the ups-and-downs of recall in activities 4 and 6?\n",
                "\n",
                "### 'a') calculation of Euclidean Distance\n",
                "### 'b') Use of Entropy (information gain) for splitting\n",
                "### 'c') tie-breaking\/voting proceedures\n",
                "### 'd') Simply a feature of KNN models: unavoidable\n",
                "### Assign the string associated with your choice to ans1\n",
                "\n",
                "### YOUR ANSWER BELOW\n",
                "\n",
                "ans1 = ''"
            ]
        },
        {
            "cell_type": "code",
            "execution_count": null,
            "metadata": {
                "collapsed": true,
                "nbgrader": {
                    "grade": true,
                    "grade_id": "Question 16",
                    "locked": true,
                    "points": "5",
                    "solution": false
                }
            },
            "outputs": [],
            "source": [
                "###\n",
                "### AUTOGRADER TEST - DO NOT REMOVE\n",
                "###\n"
            ]
        },
        {
            "cell_type": "markdown",
            "metadata": {
                "nbgrader": {
                    "grade": false,
                    "locked": true,
                    "solution": false
                }
            },
            "source": [
                "For this investigation of our model, recall was used. In other instances other metrics might be more useful, or more translatable to your use-case.  \n",
                "\n",
                "Hopefully from this brief look into tuning our model and investigating the effects it has become clear that either \"success\" or \"failure\" might be due to circumstance.  \n",
                "\n",
                "Even in the search for the trade-off between bias and variance, a single observation or even a pair of observations might not tell the full story."
            ]
        }
    ],
    "metadata": {
        "kernelspec": {
            "display_name": "Python 3 [3.6]",
            "language": "python",
            "name": "python3"
        },
        "language_info": {
            "codemirror_mode": {
                "name": "ipython",
                "version": 3
            },
            "file_extension": ".py",
            "mimetype": "text\/x-python",
            "name": "python",
            "nbconvert_exporter": "python",
            "pygments_lexer": "ipython3",
            "version": "3.6.4"
        }
    },
    "nbformat": 4,
    "nbformat_minor": 2
}