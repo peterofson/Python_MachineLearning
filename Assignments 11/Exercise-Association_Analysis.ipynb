{
    "cells": [
        {
            "cell_type": "markdown",
            "metadata": {
                "nbgrader": {
                    "grade": false,
                    "locked": true,
                    "solution": false
                },
                "editable": false,
                "deletable": false
            },
            "source": [
                "# Exercise for Week 12: Association Analysis\n",
                "\n",
                "This week's work will be a little different (and a little shorter) than the formal \"Assignments\" for the other weeks.  \n",
                "\n",
                "This exercise asks functionally a single question. A few hints and functions are provided which should pave the way to use the apriori algorithm to find the two (2) most frequent collections of items in 250,000 orders.  \n",
                "\n",
                "Ultimately you will be asked to give to give the two lists of the four items that are found together in more than 300 orders.\n",
                "\n",
                "## An Important Note On Grading\n",
                "\n",
                "A number of these cells could take a long time to run. **To decrease grading time, comment out any cells that take a long time to run.**\n",
                "\n",
                "### The Data\n",
                "\n",
                "The data today is a subset of data from the [\"Insta-Cart\"](https:\/\/www.kaggle.com\/c\/instacart-market-basket-analysis\/data) dataset on Kaggle"
            ]
        },
        {
            "cell_type": "code",
            "execution_count": null,
            "metadata": {
                "collapsed": true,
                "nbgrader": {
                    "grade": false,
                    "locked": true,
                    "solution": false
                },
                "editable": false,
                "deletable": false
            },
            "outputs": [],
            "source": [
                "import pandas as pd\n",
                "import matplotlib.pyplot as plt\n",
                "import numpy as np\n",
                "%matplotlib inline"
            ]
        },
        {
            "cell_type": "code",
            "execution_count": null,
            "metadata": {
                "collapsed": true,
                "nbgrader": {
                    "grade": false,
                    "locked": true,
                    "solution": false
                },
                "editable": false,
                "deletable": false
            },
            "outputs": [],
            "source": [
                "file_path = \"..\/resource\/asnlib\/publicdata\/insta_cart_subset.csv\"\n",
                "\n",
                "data = pd.read_csv(file_path)\n",
                "data.head()"
            ]
        },
        {
            "cell_type": "markdown",
            "metadata": {
                "nbgrader": {
                    "grade": false,
                    "locked": true,
                    "solution": false
                },
                "editable": false,
                "deletable": false
            },
            "source": [
                "As you can see above, the data consists of two columns, an `order_id` and a `product_id`.  \n",
                "\n",
                "Looking at the first 5 rows, we can see that order #7 consisted of items 34050, and 46802."
            ]
        },
        {
            "cell_type": "code",
            "execution_count": null,
            "metadata": {
                "collapsed": true,
                "nbgrader": {
                    "grade": false,
                    "locked": true,
                    "solution": false
                },
                "editable": false,
                "deletable": false
            },
            "outputs": [],
            "source": [
                "unique_orders = len(data.order_id.unique())\n",
                "print(unique_orders)"
            ]
        },
        {
            "cell_type": "markdown",
            "metadata": {
                "nbgrader": {
                    "grade": false,
                    "locked": true,
                    "solution": false
                },
                "editable": false,
                "deletable": false
            },
            "source": [
                "Count appearances of each product, and delete products which do not appear at least 500 times."
            ]
        },
        {
            "cell_type": "code",
            "execution_count": null,
            "metadata": {
                "collapsed": true,
                "nbgrader": {
                    "grade": false,
                    "locked": true,
                    "solution": false
                },
                "editable": false,
                "deletable": false
            },
            "outputs": [],
            "source": [
                "count_of_each_product = data.product_id.value_counts()\n",
                "products_to_keep = count_of_each_product[count_of_each_product > 500].index\n",
                "products_to_keep[:10]"
            ]
        },
        {
            "cell_type": "markdown",
            "metadata": {
                "nbgrader": {
                    "grade": false,
                    "locked": true,
                    "solution": false
                },
                "editable": false,
                "deletable": false
            },
            "source": [
                "Keep only those products"
            ]
        },
        {
            "cell_type": "code",
            "execution_count": null,
            "metadata": {
                "collapsed": true,
                "nbgrader": {
                    "grade": false,
                    "locked": true,
                    "solution": false
                },
                "editable": false,
                "deletable": false
            },
            "outputs": [],
            "source": [
                "compacted_data = data[data.product_id.isin(products_to_keep)]\n",
                "compacted_data.shape"
            ]
        },
        {
            "cell_type": "markdown",
            "metadata": {
                "nbgrader": {
                    "grade": false,
                    "locked": true,
                    "solution": false
                },
                "editable": false,
                "deletable": false
            },
            "source": [
                "### Helper Function\n",
                "\n",
                "The below function finds all of the product groupings of a specified size, and counts how many times they appear.\n",
                "\n",
                "The solution for this exercise could theoretically be found by running \"`find_groups_of_size_n(compacted_data, 4)`\". However, without a fantastic amount of computing power and memory, that would take a very long time and\/or result in a memory error.  \n",
                "\n",
                "Thus the trick to this exercise is determining how to cut-down the size of the data being investigated.  \n",
                "\n",
                "If the data is not cut-down enough, you will see a MemoryError\n",
                "\n",
                "A few ideas:\n",
                "1. We know we are looking for product groups of four items. Thus all orders of fewer than 4 items may be disregarded.\n",
                "2. Use the theories which support the apriori algorithm to further reduce the orders \/ products which are grouped. "
            ]
        },
        {
            "cell_type": "code",
            "execution_count": null,
            "metadata": {
                "collapsed": true,
                "nbgrader": {
                    "grade": false,
                    "locked": true,
                    "solution": false
                },
                "editable": false,
                "deletable": false
            },
            "outputs": [],
            "source": [
                "import itertools as it\n",
                "def find_groups_of_size_n(data, size):\n",
                "    group_by = data.groupby(\"order_id\")['product_id'].unique()\n",
                "    group_by = group_by.apply(lambda x: sorted(x))\n",
                "    group_by = pd.DataFrame(group_by)\n",
                "    def groupings(x):\n",
                "        return list(it.combinations(x,size))\n",
                "    \n",
                "    group_by['groups'] = group_by['product_id'].apply(groupings)\n",
                "    counts = pd.Series(list(it.chain.from_iterable(group_by['groups'].values))).value_counts()\n",
                "    return counts"
            ]
        },
        {
            "cell_type": "markdown",
            "metadata": {
                "nbgrader": {
                    "grade": false,
                    "locked": true,
                    "solution": false
                },
                "editable": false,
                "deletable": false
            },
            "source": [
                "Example of using above function\n",
                "\n",
                "**The below cell is an example of code that should be commented out to decrease grading time**"
            ]
        },
        {
            "cell_type": "code",
            "execution_count": null,
            "metadata": {
                "collapsed": true,
                "nbgrader": {
                    "grade": false,
                    "locked": false,
                    "solution": false
                }
            },
            "outputs": [],
            "source": [
                "%%time\n",
                "# find_groups_of_size_n(compacted_data,2).head()"
            ]
        },
        {
            "cell_type": "markdown",
            "metadata": {
                "nbgrader": {
                    "grade": false,
                    "locked": true,
                    "solution": false
                },
                "editable": false,
                "deletable": false
            },
            "source": [
                "### Work Area Below"
            ]
        },
        {
            "cell_type": "code",
            "execution_count": null,
            "metadata": {
                "collapsed": true
            },
            "outputs": [],
            "source": []
        },
        {
            "cell_type": "code",
            "execution_count": null,
            "metadata": {
                "collapsed": true
            },
            "outputs": [],
            "source": []
        },
        {
            "cell_type": "code",
            "execution_count": null,
            "metadata": {
                "collapsed": true
            },
            "outputs": [],
            "source": []
        },
        {
            "cell_type": "code",
            "execution_count": null,
            "metadata": {
                "collapsed": true
            },
            "outputs": [],
            "source": []
        },
        {
            "cell_type": "markdown",
            "metadata": {
                "nbgrader": {
                    "grade": false,
                    "locked": true,
                    "solution": false
                },
                "editable": false,
                "deletable": false
            },
            "source": [
                "#### Graded Response\n",
                "**Note: the answer is hard coded, your responses should be hard coded as well.**\n",
                "\n",
                "**If this cell contains long-running code, it may fail** "
            ]
        },
        {
            "cell_type": "code",
            "execution_count": null,
            "metadata": {
                "collapsed": true
            },
            "outputs": [],
            "source": [
                "### GRADED\n",
                "### What are the two sets of the four items which are found together more than 300 times\n",
                "### in the above dataset.\n",
                "\n",
                "### Assign one list of four product_ids to set_1,\n",
                "### and one list of four product_ids to set_2\n",
                "\n",
                "### For example, after running the cell above \"find_groups_of_size_n(compacted_data,2).head()\",\n",
                "### If the questions were about the sets of two items which appear more than 5000 times together\n",
                "### The answers would be:\n",
                "\n",
                "### set_1 = [13176, 47209]\n",
                "### set_2 = [13176, 21137]\n",
                "\n",
                "### YOUR ANSWER BELOW\n",
                "\n",
                "set_1 = []\n",
                "set_2 = []"
            ]
        },
        {
            "cell_type": "code",
            "execution_count": null,
            "metadata": {
                "collapsed": true,
                "nbgrader": {
                    "grade": true,
                    "grade_id": "Graded Response",
                    "locked": true,
                    "points": "10",
                    "solution": false
                },
                "editable": false,
                "deletable": false
            },
            "outputs": [],
            "source": [
                "###\n",
                "### AUTOGRADER TEST - DO NOT REMOVE\n",
                "###\n"
            ]
        },
        {
            "cell_type": "markdown",
            "metadata": {
                "nbgrader": {
                    "grade": false,
                    "locked": true,
                    "solution": false
                },
                "editable": false,
                "deletable": false
            },
            "source": [
                "### Lookup function for product names  \n",
                "\n",
                "If you are interested, a single product ID or a list of product IDs may be looked up using the function below "
            ]
        },
        {
            "cell_type": "code",
            "execution_count": null,
            "metadata": {
                "collapsed": true,
                "nbgrader": {
                    "grade": false,
                    "locked": true,
                    "solution": false
                },
                "editable": false,
                "deletable": false
            },
            "outputs": [],
            "source": [
                "prod_filepath = \"..\/resource\/asnlib\/publicdata\/products.csv\"\n",
                "products = pd.read_csv(prod_filepath)\n",
                "def product_lookup(product_ids):\n",
                "    try:\n",
                "        len(product_ids)\n",
                "        names = [products[products.product_id == pid].iloc[0,1] for pid in product_ids]\n",
                "    except:\n",
                "        names = products[products.product_id == product_ids].iloc[0,1]\n",
                "    \n",
                "    return names"
            ]
        },
        {
            "cell_type": "code",
            "execution_count": null,
            "metadata": {
                "collapsed": true
            },
            "outputs": [],
            "source": [
                "product_lookup(13176)"
            ]
        }
    ],
    "metadata": {
        "kernelspec": {
            "display_name": "Python 3 [3.6]",
            "language": "python",
            "name": "python3"
        },
        "language_info": {
            "codemirror_mode": {
                "name": "ipython",
                "version": 3
            },
            "file_extension": ".py",
            "mimetype": "text\/x-python",
            "name": "python",
            "nbconvert_exporter": "python",
            "pygments_lexer": "ipython3",
            "version": "3.6.4"
        }
    },
    "nbformat": 4,
    "nbformat_minor": 2
}