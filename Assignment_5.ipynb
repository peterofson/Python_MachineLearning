{
 "cells": [
  {
   "cell_type": "markdown",
   "metadata": {
    "deletable": false,
    "editable": false,
    "nbgrader": {
     "grade": false,
     "locked": true,
     "solution": false
    }
   },
   "source": [
    "# Logistic Regression  \n",
    "\n",
    "---------------\n",
    "\n",
    "_Authors: Khal Makhoul, W.P.G.Peterson_   \n",
    "\n",
    "## Project Guide\n",
    "------------\n",
    "- [Project Overview](#overview)\n",
    "- [Introduction and Review](#intro)\n",
    "- [Data Exploration](#data)\n",
    "- [Coding Logistic Regression](#code)\n",
    "- [Logistic Regression in `sklearn`](#sklearn)\n",
    "\n",
    "<a id = \"overview\"></a>\n",
    "## Project Overview  \n",
    "-------------\n",
    "#### EXPECTED TIME 3 HRS\n",
    "\n",
    "This assignment will work through the definition of a Logistic Regression function in `Python`. After a summary of the equations that will be used, and a brief EDA of the \"Titanic\" data we will be using, you will be asked to define a number of functions which will, in sum, create a Logistic Regression.  \n",
    "A demonstration of `sklearn`'s implementation of Logistic Regression will close the assignment.\n",
    "\n",
    "\n",
    "You will be asked to code functions to do the following:\n",
    "1. Implement the Logistic Regression Algorithm\n",
    "    - Calculate the value of the sigmoid function\n",
    "    - Calculate the gradient of the log-likelihood with respect to $w$\n",
    "    - Sum the gradients of the log-likelihood with respect to $w$\n",
    "2. Execute logistic regression, stopping after a particular iteration\n",
    "3. Determine convergence of the logistic regression algorithm\n",
    "\n",
    "**Motivation**: Logistic Regression offers a way to to create a fairly interpretable parametic model for binary classification.\n",
    "\n",
    "**Problem**: Using Logistic Regression, predict whether or not a passenger survived the sinking of the Titanic.\n",
    "\n",
    "**Data**: The data for today comes from [Kaggle's Titanic Data](https://www.kaggle.com/c/titanic/data)  \n",
    "\n",
    "Please see above link for a more complete description of the data.\n",
    "\n",
    "**Grading**: NOTE, THE FINAL TWO CELLS IN THIS NOTEBOOK WILL CAUSE GRADING TO RUN SLOWLY. IF YOU WANT TO SPEED UP THE GRADING PROCESS, KEEP CODE IN THE LAST TWO CELLS COMMENTED OUT.\n",
    "\n",
    "<a id = \"intro\"></a>\n",
    "\n",
    "### Introduction and Review\n",
    "\n",
    "The lectures this week derived all of the equations that used in this assignment.  \n",
    "\n",
    "Recall that the likelihood for Logistic Regression is given by:\n",
    "\n",
    "$$p(y_1,\\ ...,\\ y_n\\ |\\ x_1,\\ ...,\\ x_n,\\ w)\\ =\\prod\\limits_{i=1}^n\\ \\sigma_i(y_i \\cdot w)$$  \n",
    "\n",
    "For coding purposes, we need the expression for the gradient of the log-likelihood with respect to $w$:\n",
    "\n",
    "\n",
    "$$\\nabla_w \\mathcal{L} = \\sum_{i = 1}^n (1 − \\sigma_i(y_i \\cdot w))\\ y_i x_i$$  \n",
    "\n",
    "Where: $$\\sigma_i(y_i \\cdot w) = \\frac{e^{y_iX_i^Tw}}{1+e^{y_ix_i^Tw}}$$  \n",
    "\n",
    "\n",
    "<a id = \"data\"></a>\n",
    "### Data Exploration\n",
    "\n",
    "This assignment will analyze data from the Titanic passenger manifest. Demographic and trip information for each passenger is coupled with whether or not they survived the disaster.\n",
    "\n",
    "Start by examining the data as usual:"
   ]
  },
  {
   "cell_type": "code",
   "execution_count": 1,
   "metadata": {
    "deletable": false,
    "editable": false,
    "nbgrader": {
     "grade": false,
     "locked": true,
     "solution": false
    }
   },
   "outputs": [
    {
     "data": {
      "text/html": [
       "<div>\n",
       "<style scoped>\n",
       "    .dataframe tbody tr th:only-of-type {\n",
       "        vertical-align: middle;\n",
       "    }\n",
       "\n",
       "    .dataframe tbody tr th {\n",
       "        vertical-align: top;\n",
       "    }\n",
       "\n",
       "    .dataframe thead th {\n",
       "        text-align: right;\n",
       "    }\n",
       "</style>\n",
       "<table border=\"1\" class=\"dataframe\">\n",
       "  <thead>\n",
       "    <tr style=\"text-align: right;\">\n",
       "      <th></th>\n",
       "      <th>PassengerId</th>\n",
       "      <th>Survived</th>\n",
       "      <th>Pclass</th>\n",
       "      <th>Name</th>\n",
       "      <th>Sex</th>\n",
       "      <th>Age</th>\n",
       "      <th>SibSp</th>\n",
       "      <th>Parch</th>\n",
       "      <th>Ticket</th>\n",
       "      <th>Fare</th>\n",
       "      <th>Cabin</th>\n",
       "      <th>Embarked</th>\n",
       "    </tr>\n",
       "  </thead>\n",
       "  <tbody>\n",
       "    <tr>\n",
       "      <th>0</th>\n",
       "      <td>1</td>\n",
       "      <td>0</td>\n",
       "      <td>3</td>\n",
       "      <td>Braund, Mr. Owen Harris</td>\n",
       "      <td>male</td>\n",
       "      <td>22.0</td>\n",
       "      <td>1</td>\n",
       "      <td>0</td>\n",
       "      <td>A/5 21171</td>\n",
       "      <td>7.2500</td>\n",
       "      <td>NaN</td>\n",
       "      <td>S</td>\n",
       "    </tr>\n",
       "    <tr>\n",
       "      <th>1</th>\n",
       "      <td>2</td>\n",
       "      <td>1</td>\n",
       "      <td>1</td>\n",
       "      <td>Cumings, Mrs. John Bradley (Florence Briggs Th...</td>\n",
       "      <td>female</td>\n",
       "      <td>38.0</td>\n",
       "      <td>1</td>\n",
       "      <td>0</td>\n",
       "      <td>PC 17599</td>\n",
       "      <td>71.2833</td>\n",
       "      <td>C85</td>\n",
       "      <td>C</td>\n",
       "    </tr>\n",
       "    <tr>\n",
       "      <th>2</th>\n",
       "      <td>3</td>\n",
       "      <td>1</td>\n",
       "      <td>3</td>\n",
       "      <td>Heikkinen, Miss. Laina</td>\n",
       "      <td>female</td>\n",
       "      <td>26.0</td>\n",
       "      <td>0</td>\n",
       "      <td>0</td>\n",
       "      <td>STON/O2. 3101282</td>\n",
       "      <td>7.9250</td>\n",
       "      <td>NaN</td>\n",
       "      <td>S</td>\n",
       "    </tr>\n",
       "    <tr>\n",
       "      <th>3</th>\n",
       "      <td>4</td>\n",
       "      <td>1</td>\n",
       "      <td>1</td>\n",
       "      <td>Futrelle, Mrs. Jacques Heath (Lily May Peel)</td>\n",
       "      <td>female</td>\n",
       "      <td>35.0</td>\n",
       "      <td>1</td>\n",
       "      <td>0</td>\n",
       "      <td>113803</td>\n",
       "      <td>53.1000</td>\n",
       "      <td>C123</td>\n",
       "      <td>S</td>\n",
       "    </tr>\n",
       "    <tr>\n",
       "      <th>4</th>\n",
       "      <td>5</td>\n",
       "      <td>0</td>\n",
       "      <td>3</td>\n",
       "      <td>Allen, Mr. William Henry</td>\n",
       "      <td>male</td>\n",
       "      <td>35.0</td>\n",
       "      <td>0</td>\n",
       "      <td>0</td>\n",
       "      <td>373450</td>\n",
       "      <td>8.0500</td>\n",
       "      <td>NaN</td>\n",
       "      <td>S</td>\n",
       "    </tr>\n",
       "    <tr>\n",
       "      <th>5</th>\n",
       "      <td>6</td>\n",
       "      <td>0</td>\n",
       "      <td>3</td>\n",
       "      <td>Moran, Mr. James</td>\n",
       "      <td>male</td>\n",
       "      <td>NaN</td>\n",
       "      <td>0</td>\n",
       "      <td>0</td>\n",
       "      <td>330877</td>\n",
       "      <td>8.4583</td>\n",
       "      <td>NaN</td>\n",
       "      <td>Q</td>\n",
       "    </tr>\n",
       "    <tr>\n",
       "      <th>6</th>\n",
       "      <td>7</td>\n",
       "      <td>0</td>\n",
       "      <td>1</td>\n",
       "      <td>McCarthy, Mr. Timothy J</td>\n",
       "      <td>male</td>\n",
       "      <td>54.0</td>\n",
       "      <td>0</td>\n",
       "      <td>0</td>\n",
       "      <td>17463</td>\n",
       "      <td>51.8625</td>\n",
       "      <td>E46</td>\n",
       "      <td>S</td>\n",
       "    </tr>\n",
       "  </tbody>\n",
       "</table>\n",
       "</div>"
      ],
      "text/plain": [
       "   PassengerId  Survived  Pclass  \\\n",
       "0            1         0       3   \n",
       "1            2         1       1   \n",
       "2            3         1       3   \n",
       "3            4         1       1   \n",
       "4            5         0       3   \n",
       "5            6         0       3   \n",
       "6            7         0       1   \n",
       "\n",
       "                                                Name     Sex   Age  SibSp  \\\n",
       "0                            Braund, Mr. Owen Harris    male  22.0      1   \n",
       "1  Cumings, Mrs. John Bradley (Florence Briggs Th...  female  38.0      1   \n",
       "2                             Heikkinen, Miss. Laina  female  26.0      0   \n",
       "3       Futrelle, Mrs. Jacques Heath (Lily May Peel)  female  35.0      1   \n",
       "4                           Allen, Mr. William Henry    male  35.0      0   \n",
       "5                                   Moran, Mr. James    male   NaN      0   \n",
       "6                            McCarthy, Mr. Timothy J    male  54.0      0   \n",
       "\n",
       "   Parch            Ticket     Fare Cabin Embarked  \n",
       "0      0         A/5 21171   7.2500   NaN        S  \n",
       "1      0          PC 17599  71.2833   C85        C  \n",
       "2      0  STON/O2. 3101282   7.9250   NaN        S  \n",
       "3      0            113803  53.1000  C123        S  \n",
       "4      0            373450   8.0500   NaN        S  \n",
       "5      0            330877   8.4583   NaN        Q  \n",
       "6      0             17463  51.8625   E46        S  "
      ]
     },
     "execution_count": 1,
     "metadata": {},
     "output_type": "execute_result"
    }
   ],
   "source": [
    "# Import the necessary modules and sets a few plotting parameters for display\n",
    "\n",
    "%matplotlib inline\n",
    "import pandas as pd\n",
    "import matplotlib.pyplot as plt\n",
    "import numpy as np\n",
    "plt.rcParams['figure.figsize'] = (20.0, 10.0)\n",
    "\n",
    "# Load the data into a `pandas` DataFrame object\n",
    "tr_path = '../resource/asnlib/publicdata/train.csv'\n",
    "titanic_df = pd.read_csv(tr_path)\n",
    "\n",
    "# Examine head of df\n",
    "titanic_df.head(7)"
   ]
  },
  {
   "cell_type": "markdown",
   "metadata": {
    "deletable": false,
    "editable": false,
    "nbgrader": {
     "grade": false,
     "locked": true,
     "solution": false
    }
   },
   "source": [
    "#### Question 1\n",
    "Dropping nulls.  \n",
    "\n",
    "The exercise below requires dropping certain records / columns.  \n",
    "\n",
    "The general rules followed below are:  \n",
    "\n",
    "- If a column consists mostly of missing data, that column probably will not be of much use in prediction.  \n",
    "- If a column has very few missing values, and enough records to build a model are complete, the records with missing values in that column may be cast out.  \n",
    "\n",
    "The question statement below includes specific directions as to how to implement the above rules."
   ]
  },
  {
   "cell_type": "code",
   "execution_count": 1,
   "metadata": {},
   "outputs": [
    {
     "data": {
      "text/html": [
       "<div>\n",
       "<style scoped>\n",
       "    .dataframe tbody tr th:only-of-type {\n",
       "        vertical-align: middle;\n",
       "    }\n",
       "\n",
       "    .dataframe tbody tr th {\n",
       "        vertical-align: top;\n",
       "    }\n",
       "\n",
       "    .dataframe thead th {\n",
       "        text-align: right;\n",
       "    }\n",
       "</style>\n",
       "<table border=\"1\" class=\"dataframe\">\n",
       "  <thead>\n",
       "    <tr style=\"text-align: right;\">\n",
       "      <th></th>\n",
       "      <th>PassengerId</th>\n",
       "      <th>Survived</th>\n",
       "      <th>Pclass</th>\n",
       "      <th>Name</th>\n",
       "      <th>Sex</th>\n",
       "      <th>Age</th>\n",
       "      <th>SibSp</th>\n",
       "      <th>Parch</th>\n",
       "      <th>Ticket</th>\n",
       "      <th>Fare</th>\n",
       "      <th>Cabin</th>\n",
       "      <th>Embarked</th>\n",
       "    </tr>\n",
       "  </thead>\n",
       "  <tbody>\n",
       "    <tr>\n",
       "      <th>0</th>\n",
       "      <td>1</td>\n",
       "      <td>0</td>\n",
       "      <td>3</td>\n",
       "      <td>Braund, Mr. Owen Harris</td>\n",
       "      <td>male</td>\n",
       "      <td>22.0</td>\n",
       "      <td>1</td>\n",
       "      <td>0</td>\n",
       "      <td>A/5 21171</td>\n",
       "      <td>7.2500</td>\n",
       "      <td>NaN</td>\n",
       "      <td>S</td>\n",
       "    </tr>\n",
       "    <tr>\n",
       "      <th>1</th>\n",
       "      <td>2</td>\n",
       "      <td>1</td>\n",
       "      <td>1</td>\n",
       "      <td>Cumings, Mrs. John Bradley (Florence Briggs Th...</td>\n",
       "      <td>female</td>\n",
       "      <td>38.0</td>\n",
       "      <td>1</td>\n",
       "      <td>0</td>\n",
       "      <td>PC 17599</td>\n",
       "      <td>71.2833</td>\n",
       "      <td>C85</td>\n",
       "      <td>C</td>\n",
       "    </tr>\n",
       "    <tr>\n",
       "      <th>2</th>\n",
       "      <td>3</td>\n",
       "      <td>1</td>\n",
       "      <td>3</td>\n",
       "      <td>Heikkinen, Miss. Laina</td>\n",
       "      <td>female</td>\n",
       "      <td>26.0</td>\n",
       "      <td>0</td>\n",
       "      <td>0</td>\n",
       "      <td>STON/O2. 3101282</td>\n",
       "      <td>7.9250</td>\n",
       "      <td>NaN</td>\n",
       "      <td>S</td>\n",
       "    </tr>\n",
       "    <tr>\n",
       "      <th>3</th>\n",
       "      <td>4</td>\n",
       "      <td>1</td>\n",
       "      <td>1</td>\n",
       "      <td>Futrelle, Mrs. Jacques Heath (Lily May Peel)</td>\n",
       "      <td>female</td>\n",
       "      <td>35.0</td>\n",
       "      <td>1</td>\n",
       "      <td>0</td>\n",
       "      <td>113803</td>\n",
       "      <td>53.1000</td>\n",
       "      <td>C123</td>\n",
       "      <td>S</td>\n",
       "    </tr>\n",
       "    <tr>\n",
       "      <th>4</th>\n",
       "      <td>5</td>\n",
       "      <td>0</td>\n",
       "      <td>3</td>\n",
       "      <td>Allen, Mr. William Henry</td>\n",
       "      <td>male</td>\n",
       "      <td>35.0</td>\n",
       "      <td>0</td>\n",
       "      <td>0</td>\n",
       "      <td>373450</td>\n",
       "      <td>8.0500</td>\n",
       "      <td>NaN</td>\n",
       "      <td>S</td>\n",
       "    </tr>\n",
       "    <tr>\n",
       "      <th>5</th>\n",
       "      <td>6</td>\n",
       "      <td>0</td>\n",
       "      <td>3</td>\n",
       "      <td>Moran, Mr. James</td>\n",
       "      <td>male</td>\n",
       "      <td>NaN</td>\n",
       "      <td>0</td>\n",
       "      <td>0</td>\n",
       "      <td>330877</td>\n",
       "      <td>8.4583</td>\n",
       "      <td>NaN</td>\n",
       "      <td>Q</td>\n",
       "    </tr>\n",
       "    <tr>\n",
       "      <th>6</th>\n",
       "      <td>7</td>\n",
       "      <td>0</td>\n",
       "      <td>1</td>\n",
       "      <td>McCarthy, Mr. Timothy J</td>\n",
       "      <td>male</td>\n",
       "      <td>54.0</td>\n",
       "      <td>0</td>\n",
       "      <td>0</td>\n",
       "      <td>17463</td>\n",
       "      <td>51.8625</td>\n",
       "      <td>E46</td>\n",
       "      <td>S</td>\n",
       "    </tr>\n",
       "  </tbody>\n",
       "</table>\n",
       "</div>"
      ],
      "text/plain": [
       "   PassengerId  Survived  Pclass  \\\n",
       "0            1         0       3   \n",
       "1            2         1       1   \n",
       "2            3         1       3   \n",
       "3            4         1       1   \n",
       "4            5         0       3   \n",
       "5            6         0       3   \n",
       "6            7         0       1   \n",
       "\n",
       "                                                Name     Sex   Age  SibSp  \\\n",
       "0                            Braund, Mr. Owen Harris    male  22.0      1   \n",
       "1  Cumings, Mrs. John Bradley (Florence Briggs Th...  female  38.0      1   \n",
       "2                             Heikkinen, Miss. Laina  female  26.0      0   \n",
       "3       Futrelle, Mrs. Jacques Heath (Lily May Peel)  female  35.0      1   \n",
       "4                           Allen, Mr. William Henry    male  35.0      0   \n",
       "5                                   Moran, Mr. James    male   NaN      0   \n",
       "6                            McCarthy, Mr. Timothy J    male  54.0      0   \n",
       "\n",
       "   Parch            Ticket     Fare Cabin Embarked  \n",
       "0      0         A/5 21171   7.2500   NaN        S  \n",
       "1      0          PC 17599  71.2833   C85        C  \n",
       "2      0  STON/O2. 3101282   7.9250   NaN        S  \n",
       "3      0            113803  53.1000  C123        S  \n",
       "4      0            373450   8.0500   NaN        S  \n",
       "5      0            330877   8.4583   NaN        Q  \n",
       "6      0             17463  51.8625   E46        S  "
      ]
     },
     "execution_count": 1,
     "metadata": {},
     "output_type": "execute_result"
    }
   ],
   "source": [
    "# Import the necessary modules and sets a few plotting parameters for display\n",
    "\n",
    "%matplotlib inline\n",
    "import pandas as pd\n",
    "import matplotlib.pyplot as plt\n",
    "import numpy as np\n",
    "plt.rcParams['figure.figsize'] = (20.0, 10.0)\n",
    "\n",
    "# Load the data into a `pandas` DataFrame object\n",
    "tr_path = '/Users/Stellarhardwood/Downloads/Assignment 5 - datasets/train.csv'\n",
    "titanic_df = pd.read_csv(tr_path)\n",
    "\n",
    "# Examine head of df\n",
    "titanic_df.head(7)"
   ]
  },
  {
   "cell_type": "code",
   "execution_count": null,
   "metadata": {
    "collapsed": true,
    "nbgrader": {
     "grade": false,
     "grade_id": "shape",
     "locked": false,
     "points": "5",
     "solution": false
    }
   },
   "outputs": [],
   "source": [
    "### GRADED\n",
    "\n",
    "### 1. Drop all of the columns in `titanic_df` which are filled more than 50% with nulls.\n",
    "### 2. If a column has fewer than 10 missing values:\n",
    "### ### Drop all of the records with missing data in that column.\n",
    "\n",
    "### After performing the above drops, what is the shape of the DataFrame?\n",
    "### Assign ints to `row` and `cols` below corresponding to the *remaining* number of rows / columns\n",
    "\n",
    "### YOUR ANSWER BELOW\n",
    "\n",
    "rows = 0\n",
    "cols = 0"
   ]
  },
  {
   "cell_type": "code",
   "execution_count": null,
   "metadata": {},
   "outputs": [],
   "source": [
    "    titantic_df.columns"
   ]
  },
  {
   "cell_type": "code",
   "execution_count": null,
   "metadata": {
    "collapsed": true,
    "deletable": false,
    "editable": false,
    "nbgrader": {
     "grade": true,
     "grade_id": "Question 1",
     "locked": true,
     "points": "5",
     "solution": false
    }
   },
   "outputs": [],
   "source": [
    "###\n",
    "### AUTOGRADER TEST - DO NOT REMOVE\n",
    "###\n"
   ]
  },
  {
   "cell_type": "markdown",
   "metadata": {
    "deletable": false,
    "editable": false,
    "nbgrader": {
     "grade": false,
     "locked": true,
     "solution": false
    }
   },
   "source": [
    "#### Question 2"
   ]
  },
  {
   "cell_type": "code",
   "execution_count": null,
   "metadata": {
    "collapsed": true
   },
   "outputs": [],
   "source": [
    "### GRADED\n",
    "### How many records are missing from the \"Age\" feature?\n",
    "\n",
    "### Assign int response to ans1\n",
    "### YOUR ANSWER BELOW\n",
    "\n",
    "ans1 = 0"
   ]
  },
  {
   "cell_type": "code",
   "execution_count": null,
   "metadata": {
    "collapsed": true,
    "deletable": false,
    "editable": false,
    "nbgrader": {
     "grade": true,
     "grade_id": "Question 2",
     "locked": true,
     "points": "5",
     "solution": false
    }
   },
   "outputs": [],
   "source": [
    "###\n",
    "### AUTOGRADER TEST - DO NOT REMOVE\n",
    "###\n"
   ]
  },
  {
   "cell_type": "markdown",
   "metadata": {
    "deletable": false,
    "editable": false,
    "nbgrader": {
     "grade": false,
     "locked": true,
     "solution": false
    }
   },
   "source": [
    "Given the fairly large number of values missing from \"Age\", and the feature's likely relationship with survival, we will create an educated guess for missing passenger ages; imputing the ages using a $k$-Nearest-Neighbor algorithm.\n",
    "\n",
    "Note: In imputing values for \"age\",  \"`survival`\" will be excluded from the $X$ matrix since that is the value we ultimately plan to predict.\n",
    "\n",
    "#### KNeighborsRegressor in `sklearn`\n",
    "Because `sklearn` automatically converts all data to floats before fitting models, it is necessary to encode any and all categorical variables as dummy variables:"
   ]
  },
  {
   "cell_type": "code",
   "execution_count": null,
   "metadata": {
    "collapsed": true,
    "deletable": false,
    "editable": false,
    "nbgrader": {
     "grade": false,
     "locked": true,
     "solution": false
    }
   },
   "outputs": [],
   "source": [
    "### Drop irrelevant categories\n",
    "titanic_df.drop(['Ticket','Cabin', 'PassengerId', 'Name'], axis=1, inplace=True)\n",
    "titanic_df = titanic_df.loc[titanic_df['Embarked'].notnull(),:]\n",
    "\n",
    "### Drop \"Survived\" for purposes of KNN imputation:\n",
    "y_target = titanic_df.Survived\n",
    "titanic_knn = titanic_df.drop(['Survived'], axis = 1)  \n",
    "titanic_knn.head()"
   ]
  },
  {
   "cell_type": "code",
   "execution_count": null,
   "metadata": {
    "collapsed": true,
    "deletable": false,
    "editable": false,
    "nbgrader": {
     "grade": false,
     "locked": true,
     "solution": false
    }
   },
   "outputs": [],
   "source": [
    "### Adding dummy variables for categorical vars\n",
    "to_dummy = ['Sex','Embarked']\n",
    "titanic_knn = pd.get_dummies(titanic_knn, prefix = to_dummy, columns = to_dummy, drop_first = True)\n",
    "\n",
    "titanic_knn.head()"
   ]
  },
  {
   "cell_type": "code",
   "execution_count": null,
   "metadata": {
    "collapsed": true,
    "deletable": false,
    "editable": false,
    "nbgrader": {
     "grade": false,
     "locked": true,
     "solution": false
    }
   },
   "outputs": [],
   "source": [
    "### Splitting data - on whether or not \"Age\" is specified.\n",
    "\n",
    "# Training data -- \"Age\" Not null; \"Age\" as target\n",
    "train = titanic_knn[titanic_knn.Age.notnull()]\n",
    "X_train = train.drop(['Age'], axis = 1)\n",
    "y_train = train.Age\n",
    "\n",
    "\n",
    "# Data to impute, -- Where Age is null; Remove completely-null \"Age\" column.\n",
    "impute = titanic_knn[titanic_knn.Age.isnull()].drop(['Age'], axis = 1)\n",
    "print(\"Data to Impute\")\n",
    "print(impute.head(3))\n",
    "\n",
    "# import algorithm\n",
    "from sklearn.neighbors import KNeighborsRegressor\n",
    "\n",
    "# Instantiate\n",
    "knr = KNeighborsRegressor()\n",
    "\n",
    "# Fit\n",
    "knr.fit(X_train, y_train)\n",
    "\n",
    "# Create Predictions\n",
    "imputed_ages = knr.predict(impute)\n",
    "\n",
    "# Add to Df\n",
    "impute['Age'] = imputed_ages\n",
    "print(\"\\nImputed Ages\")\n",
    "print(impute.head(3))\n",
    "\n",
    "# Re-combine dataframes\n",
    "titanic_imputed = pd.concat([train, impute], sort = False, axis = 0)\n",
    "\n",
    "# Return to original order - to match back up with \"Survived\"\n",
    "titanic_imputed.sort_index(inplace = True)\n",
    "print(\"Shape with imputed values:\", titanic_imputed.shape)\n",
    "print(\"Shape before imputation:\", titanic_knn.shape)\n",
    "titanic_imputed.head(7)"
   ]
  },
  {
   "cell_type": "markdown",
   "metadata": {
    "deletable": false,
    "editable": false,
    "nbgrader": {
     "grade": false,
     "locked": true,
     "solution": false
    }
   },
   "source": [
    "It would be appropriate to spend more time taking care with the imputation of age. For brevity's sake that will not be done here.\n",
    "\n",
    "#### Brief EDA\n",
    "\n",
    "First Look at tabulations of categorical variables:"
   ]
  },
  {
   "cell_type": "code",
   "execution_count": null,
   "metadata": {
    "collapsed": true,
    "deletable": false,
    "editable": false,
    "nbgrader": {
     "grade": false,
     "locked": true,
     "solution": false
    }
   },
   "outputs": [],
   "source": [
    "import itertools\n",
    "# Lists of categorical v. numeric features\n",
    "categorical = ['Pclass','Sex','Embarked']\n",
    "numeric = ['Age','SibSp','Parch','Fare']\n",
    "\n",
    "# Create all pairs of categorical variables, look at distributions\n",
    "cat_combos = list(itertools.combinations(categorical, 2))\n",
    "print(\"All Combos or categorical vars: \\n\",cat_combos, \"\\n\")\n",
    "for row, col in cat_combos:\n",
    "    print(\"Row Percents: \\n\",pd.crosstab(titanic_df[row], titanic_df[col], normalize=\"index\"), \"\\n\")\n",
    "    print(\"Column Percents: \\n\", pd.crosstab(titanic_df[row], titanic_df[col], normalize=\"columns\"),\"\\n---------------\\n\")"
   ]
  },
  {
   "cell_type": "markdown",
   "metadata": {
    "deletable": false,
    "editable": false,
    "nbgrader": {
     "grade": false,
     "locked": true,
     "solution": false
    }
   },
   "source": [
    "**Correlation heatmap of the numberic variables**"
   ]
  },
  {
   "cell_type": "code",
   "execution_count": null,
   "metadata": {
    "collapsed": true,
    "deletable": false,
    "editable": false,
    "nbgrader": {
     "grade": false,
     "locked": true,
     "solution": false
    }
   },
   "outputs": [],
   "source": [
    "import seaborn as sns\n",
    "sns.heatmap(titanic_df[numeric].corr(), cmap = \"coolwarm\");"
   ]
  },
  {
   "cell_type": "markdown",
   "metadata": {
    "deletable": false,
    "editable": false,
    "nbgrader": {
     "grade": false,
     "locked": true,
     "solution": false
    }
   },
   "source": [
    "#### Question 3"
   ]
  },
  {
   "cell_type": "code",
   "execution_count": null,
   "metadata": {
    "collapsed": true
   },
   "outputs": [],
   "source": [
    "### GRADED\n",
    "### True or False:\n",
    "### Other than the autocorrelation,\n",
    "### Two of the above variables in the heatmap have a correlation definitively greater than 0.5 or less than -0.5?\n",
    "\n",
    "### Assign boolean answer to ans1\n",
    "### YOUR ANSWER BELOW\n",
    "\n",
    "ans1 = \"\""
   ]
  },
  {
   "cell_type": "code",
   "execution_count": null,
   "metadata": {
    "collapsed": true,
    "deletable": false,
    "editable": false,
    "nbgrader": {
     "grade": true,
     "grade_id": "Question 3",
     "locked": true,
     "points": "2",
     "solution": false
    }
   },
   "outputs": [],
   "source": [
    "###\n",
    "### AUTOGRADER TEST - DO NOT REMOVE\n",
    "###\n"
   ]
  },
  {
   "cell_type": "markdown",
   "metadata": {
    "deletable": false,
    "editable": false,
    "nbgrader": {
     "grade": false,
     "locked": true,
     "solution": false
    }
   },
   "source": [
    "<a id = \"code\"></a>\n",
    "### Coding Logistic Regression\n",
    "\n",
    "The first function will perform the preprocessing of our data. The steps are:  \n",
    "\n",
    "**First**: Ensure that the x- and y- matricies have the observations as rows, and features as columns.  \n",
    "- The x-matrix will be n-rows and d-columns. Where $n>d$\n",
    "- The y-vector will be a 1-dimensional numpy array of length n.  \n",
    "\n",
    "**Second**: A column of ones must be added to the x-inputs matrix, increasing its dimensions to n-by-d+1.  \n",
    "\n",
    "**Third**: Ensure that the y-vector has all values encoded as 1 and -1, NOT 1 and 0.  \n",
    "\n",
    "**Fourth**: The initial vector of weights should be created, a vector of length d+1 of all 0's (Hint: look at `np.zeros`)\n",
    "\n",
    "Those three matricies should all be returned. e.g.:  \n",
    "\n",
    "`return prepared_x, prepared_y, initial_w`  \n",
    "\n",
    "See example below of returning multiple items with a single function"
   ]
  },
  {
   "cell_type": "code",
   "execution_count": null,
   "metadata": {
    "collapsed": true,
    "deletable": false,
    "editable": false,
    "nbgrader": {
     "grade": false,
     "locked": true,
     "solution": false
    }
   },
   "outputs": [],
   "source": [
    "def ex_func(): return 1,2,3\n",
    "\n",
    "\n",
    "z = ex_func()\n",
    "a,b,c = ex_func()\n",
    "\n",
    "print(\"a:\", a,\"b:\",b,\"c:\",c,\"z:\",z)"
   ]
  },
  {
   "cell_type": "markdown",
   "metadata": {
    "deletable": false,
    "editable": false,
    "nbgrader": {
     "grade": false,
     "locked": true,
     "solution": false
    }
   },
   "source": [
    "#### Question 4"
   ]
  },
  {
   "cell_type": "code",
   "execution_count": null,
   "metadata": {
    "collapsed": true
   },
   "outputs": [],
   "source": [
    "### GRADED\n",
    "### Follow directions given above\n",
    "### YOUR ANSWER BELOW\n",
    "\n",
    "def prepare_data(input_x, target_y):\n",
    "    \"\"\"\n",
    "    Confirm dimensions of x and y, transpose if appropriate;\n",
    "    Add column of ones to x;\n",
    "    Ensure y consists of 1's and -1's;\n",
    "    Create weights array of all 0s\n",
    "    \n",
    "    Return X, y, and weights.\n",
    "    \n",
    "    Arguments:\n",
    "        input_x - a numpy array \n",
    "        target_y - a numpy array\n",
    "        \n",
    "    Returns:\n",
    "        prepared_x -- a 2-d numpy array; first column consists of 1's,\n",
    "            more rows than columns\n",
    "        prepared_y -- a numpy array consisting only of 1s and -1s\n",
    "        initial_w -- a 1-d numpy array consisting of \"d+1\" 0s, where\n",
    "            \"d+1\" is the number of columns in \"prepared_x\"\n",
    "        \n",
    "    Example:\n",
    "        x = np.array([[1,2,3,4],[11,12,13,14]])\n",
    "        y = np.array([1,0,1,1])\n",
    "        x,y,w = prepare_data(x,y)\n",
    "        \n",
    "        print(x) #--> array([[ 1,  1, 11],\n",
    "                            [ 1,  2, 12],\n",
    "                            [ 1,  3, 13],\n",
    "                            [ 1,  4, 14]])\n",
    "                            \n",
    "        print(y) #--> array([1, -1, 1, 1])\n",
    "        \n",
    "        print(w) #--> array([0., 0., 0.])\n",
    "        \n",
    "    Assumptions:\n",
    "        Assume that there are more observations than features in `input_x`\n",
    "    \"\"\"\n",
    "\n",
    "    \n",
    "    return prepared_x, prepared_y, initial_w"
   ]
  },
  {
   "cell_type": "code",
   "execution_count": null,
   "metadata": {
    "collapsed": true,
    "deletable": false,
    "editable": false,
    "nbgrader": {
     "grade": true,
     "grade_id": "Question 4",
     "locked": true,
     "points": "10",
     "solution": false
    }
   },
   "outputs": [],
   "source": [
    "###\n",
    "### AUTOGRADER TEST - DO NOT REMOVE\n",
    "###\n"
   ]
  },
  {
   "cell_type": "markdown",
   "metadata": {
    "deletable": false,
    "editable": false,
    "nbgrader": {
     "grade": false,
     "locked": true,
     "solution": false
    }
   },
   "source": [
    "#### Question 5\n",
    "The next function will calculate the value of the sigmoid. \n",
    "\n",
    "Equation for the sigmoid:  \n",
    "$$\\sigma_i(y_i \\cdot w) = \\frac{e^{y_iX_i^Tw}}{1+e^{y_ix_i^Tw}}$$  \n",
    "\n",
    "Define a function called `sigmoid_single`:\n",
    "\n",
    "**Given** $x_i$, $y_i$, and $w$  \n",
    "**Return** a float, between 0 and 1.  \n",
    "\n",
    "Hint: First calculate $e^{y_ix_i^Tw}$; use `np.exp()`.  \n",
    "\n",
    "Look closely at the examples below.  \n",
    "$e^{y_ix_i^Tw}$ will evaluate to $np.inf$ when $y_ix_i^Tw$ is greater than ~709.782. In this case, a `\"1\"` should be returned by the function."
   ]
  },
  {
   "cell_type": "code",
   "execution_count": null,
   "metadata": {
    "collapsed": true
   },
   "outputs": [],
   "source": [
    "### GRADED\n",
    "### Follow directions above\n",
    "### YOUR ANSWER BELOW\n",
    "def sigmoid_single(x, y, w):\n",
    "    \"\"\"\n",
    "    Obtain the value of a Sigmoid using training data.\n",
    "    \n",
    "    Arguments:\n",
    "        x - a vector of length d\n",
    "        y - either 1, or -1\n",
    "        w - a vector of length d\n",
    "    \n",
    "    Example:\n",
    "        x = np.array([23.0,75])\n",
    "        y = -1\n",
    "        w = np.array([2,-.5])\n",
    "        sig = sigmoid_single(x, y, w)\n",
    "        \n",
    "        print(sig) #--> 0.0002034269780552065\n",
    "        \n",
    "        x2 = np.array([ 1. , 22., 0. , 1. , 7.25 , 0. , 3. , 1. , 1.])\n",
    "        w2 = np.array([ -10.45 , -376.7215 , -0.85, -10.5 , 212.425475 , -1.1, -36.25 , -17.95 , -7.1])\n",
    "        y2 = -1\n",
    "        sig2 = sigmoid_single(x2,y2,w2)\n",
    "        \n",
    "        print(sig2) #--> 1\n",
    "    \"\"\"\n",
    "\n",
    "    return float()"
   ]
  },
  {
   "cell_type": "code",
   "execution_count": null,
   "metadata": {
    "collapsed": true,
    "deletable": false,
    "editable": false,
    "nbgrader": {
     "grade": true,
     "grade_id": "Question 5",
     "locked": true,
     "points": "15",
     "solution": false
    }
   },
   "outputs": [],
   "source": [
    "###\n",
    "### AUTOGRADER TEST - DO NOT REMOVE\n",
    "###\n"
   ]
  },
  {
   "cell_type": "markdown",
   "metadata": {
    "deletable": false,
    "editable": false,
    "nbgrader": {
     "grade": false,
     "locked": true,
     "solution": false
    }
   },
   "source": [
    "#### Question 6\n",
    "With the sigmoid, $\\sigma_i(y_i \\cdot w)$ defined above, we will tackle the rest of the function that is summed to calculate the gradient of the log-likelihood.   \n",
    "\n",
    "In a function named `to_sum`:  \n",
    "\n",
    "\n",
    "**Given** $x_i$, $y_i$, and $w$  \n",
    "**Return** $(1-\\sigma_i(y_i\\cdot w))y_ix_i$"
   ]
  },
  {
   "cell_type": "code",
   "execution_count": null,
   "metadata": {
    "collapsed": true
   },
   "outputs": [],
   "source": [
    "### GRADED\n",
    "### YOUR ANSWER BELOW\n",
    "def to_sum(x,y,w):\n",
    "    \"\"\"\n",
    "    Obtain the value of the function that will eventually be summed to \n",
    "    find the gradient of the log-likelihood.\n",
    "    \n",
    "    Arguments:\n",
    "        x - a vector of length d\n",
    "        y - either 1, or -1\n",
    "        w - a vector of length d\n",
    "        \n",
    "    Example:\n",
    "        x = np.array([23.0,75])\n",
    "        y = -1\n",
    "        w = np.array([.1,-.2])\n",
    "        print(to_sum(x,y,w)) # --> array([-7.01756737e-05, -2.28833719e-04])\n",
    "    \n",
    "    \"\"\"\n",
    "    \n",
    "    return np.array([])"
   ]
  },
  {
   "cell_type": "code",
   "execution_count": null,
   "metadata": {
    "collapsed": true,
    "deletable": false,
    "editable": false,
    "nbgrader": {
     "grade": true,
     "grade_id": "Question 6",
     "locked": true,
     "points": "15",
     "solution": false
    }
   },
   "outputs": [],
   "source": [
    "###\n",
    "### AUTOGRADER TEST - DO NOT REMOVE\n",
    "###\n"
   ]
  },
  {
   "cell_type": "markdown",
   "metadata": {
    "deletable": false,
    "editable": false,
    "nbgrader": {
     "grade": false,
     "locked": true,
     "solution": false
    }
   },
   "source": [
    "#### Question 7\n",
    "Finally, code a function called `sum_all`:    \n",
    "\n",
    "\n",
    "**Given**: The pre-processed matricies corresponding to X, y, and weights  \n",
    "**Return**: $\\sum_{i = 1}^n (1 − \\sigma_i(y_i \\cdot w))\\ y_i x_i$"
   ]
  },
  {
   "cell_type": "code",
   "execution_count": null,
   "metadata": {
    "collapsed": true
   },
   "outputs": [],
   "source": [
    "### GRADED\n",
    "### Follow instructions above\n",
    "### YOUR ANSWER BELOW\n",
    "def sum_all(x_input, y_target, w):\n",
    "    \"\"\"\n",
    "    Obtain and return the gradient of the log-likelihood\n",
    "    \n",
    "    Arguments:\n",
    "        x_input - *preprocessed* an array of shape n-by-d\n",
    "        y_target - *preprocessed* a vector of length n\n",
    "        w - a vector of length d\n",
    "        \n",
    "    Example:\n",
    "        x = np.array([[1,22,7.25],[1,38,71.2833]])\n",
    "        y = np.array([-1,1])\n",
    "        w = np.array([.1,-.2, .5])\n",
    "        print(sum_all(x,y,w)) #--> array([-0.33737816, -7.42231958, -2.44599168])\n",
    "        \n",
    "    \"\"\"\n",
    "\n",
    "    return np.array([])"
   ]
  },
  {
   "cell_type": "code",
   "execution_count": null,
   "metadata": {
    "collapsed": true,
    "deletable": false,
    "editable": false,
    "nbgrader": {
     "grade": true,
     "grade_id": "Question 7",
     "locked": true,
     "points": "25",
     "solution": false
    }
   },
   "outputs": [],
   "source": [
    "###\n",
    "### AUTOGRADER TEST - DO NOT REMOVE\n",
    "###\n"
   ]
  },
  {
   "cell_type": "markdown",
   "metadata": {
    "deletable": false,
    "editable": false,
    "nbgrader": {
     "grade": false,
     "locked": true,
     "solution": false
    }
   },
   "source": [
    "#### Question 8\n",
    "Code a function called `update_w`, that performs a single-step of gradient descent for calculating the Logistic Regression weights:\n",
    "\n",
    "**Given**: Pre-processed matricies of x, and y; the current weights - $w_i$, and \"$\\eta$\"  \n",
    "**Return**: $w_{i+1}$ Which is equal to: $w_i + \\eta \\sum_{i = 1}^n (1 − \\sigma_i(y_i \\cdot w_i))\\ y_i x_i$"
   ]
  },
  {
   "cell_type": "code",
   "execution_count": null,
   "metadata": {
    "collapsed": true
   },
   "outputs": [],
   "source": [
    "### GRADED\n",
    "### YOUR ANSWER BELOW\n",
    "def update_w(x_input, y_target, w, eta):\n",
    "    \"\"\"Obtain and return updated Logistic Regression weights\n",
    "    \n",
    "    Arguments:\n",
    "        x_input - *preprocessed* an array of shape n-by-d\n",
    "        y_target - *preprocessed* a vector of length n\n",
    "        w - a vector of length d\n",
    "        eta - a float, positive, close to 0\n",
    "        \n",
    "    Example:\n",
    "        x = np.array([[1,22,7.25],[1,38,71.2833]])\n",
    "        y = np.array([-1,1])\n",
    "        w = np.array([.1,-.2, .5])\n",
    "        eta = .1\n",
    "        \n",
    "        print(update_w(x,y,w, eta)) #--> array([ 0.06626218, -0.94223196,  0.25540083])\n",
    "\"\"\"\n",
    "    \n",
    "    return np.array([])"
   ]
  },
  {
   "cell_type": "code",
   "execution_count": null,
   "metadata": {
    "collapsed": true,
    "deletable": false,
    "editable": false,
    "nbgrader": {
     "grade": true,
     "grade_id": "Question 8",
     "locked": true,
     "points": "25",
     "solution": false
    }
   },
   "outputs": [],
   "source": [
    "###\n",
    "### AUTOGRADER TEST - DO NOT REMOVE\n",
    "###\n"
   ]
  },
  {
   "cell_type": "markdown",
   "metadata": {
    "deletable": false,
    "editable": false,
    "nbgrader": {
     "grade": false,
     "locked": true,
     "solution": false
    }
   },
   "source": [
    "#### Question 9\n",
    "Next, create a function called `fixed_iteration` which will perform gradient descent, calculating Logistic Regression weights for a specified number of steps.  \n",
    "\n",
    "\n",
    "**Given**: *Un-preprocessed* x- and y- matricies, an $\\eta$ parameter that is positive and close to 0, and an integer number of steps  \n",
    "**Return**: $w_{steps}$ where $w_{i+1} = w_i + \\eta \\sum_{i = 1}^n (1 − \\sigma_i(y_i \\cdot w_i))\\ y_i x_i$  \n",
    "\n",
    "NB: Initial weights ($w_0$) should all be 0's like are returned from the `prepare_data` function."
   ]
  },
  {
   "cell_type": "code",
   "execution_count": null,
   "metadata": {
    "collapsed": true
   },
   "outputs": [],
   "source": [
    "### GRADED\n",
    "### Follow directions above\n",
    "### YOUR ANSWER BELOW\n",
    "\n",
    "def fixed_iteration(x_input, y_target, eta, steps):\n",
    "    \n",
    "    \"\"\"\n",
    "    Return weights calculated from 'steps' number of steps of gradient descent.\n",
    "    \n",
    "    Arguments:\n",
    "        x_input - *NOT-preprocessed* an array\n",
    "        y_target - *NOT-preprocessed* a vector of length n\n",
    "        eta - a float, positve, close to 0\n",
    "        steps - an int\n",
    "        \n",
    "    Example:\n",
    "        x = np.array([[22,7.25],[38,71.2833],[26,7.925],[35,53.1]])\n",
    "        y = np.array([-1,1,1,1])\n",
    "        eta = .1\n",
    "        steps = 100\n",
    "        \n",
    "        print(fixed_iteration(x,y, eta, steps)) #--> np.array([-0.9742495,  -0.41389924, 6.8199374 ])\n",
    "    \n",
    "    \"\"\"\n",
    "    \n",
    "    return np.array([])"
   ]
  },
  {
   "cell_type": "code",
   "execution_count": null,
   "metadata": {
    "collapsed": true,
    "deletable": false,
    "editable": false,
    "nbgrader": {
     "grade": true,
     "grade_id": "Question 9",
     "locked": true,
     "points": "15",
     "solution": false
    }
   },
   "outputs": [],
   "source": [
    "###\n",
    "### AUTOGRADER TEST - DO NOT REMOVE\n",
    "###\n"
   ]
  },
  {
   "cell_type": "markdown",
   "metadata": {
    "deletable": false,
    "editable": false,
    "nbgrader": {
     "grade": false,
     "locked": true,
     "solution": false
    }
   },
   "source": [
    "#### Question 10\n",
    "For the final function, a  prediction will be created for out-of-sample data.  \n",
    "\n",
    "Code a function called \"`predict`\".\n",
    "\n",
    "Accept two inputs:  \n",
    "- An **un-preprocessed** observation of X -- a vector as numpy array  \n",
    "- A numpy array of weights\n",
    "\n",
    "Return:\n",
    "A label prediction for the x observations; either -1 or 1 (integers).  \n",
    "\n",
    "**NB:**\n",
    "FIRST preprocess X. Then;  \n",
    "If $X^T\\cdot w > 0$  predict 1. Otherwise, predict -1.\n"
   ]
  },
  {
   "cell_type": "code",
   "execution_count": null,
   "metadata": {
    "collapsed": true
   },
   "outputs": [],
   "source": [
    "### GRADED\n",
    "### Follow Directions Above\n",
    "### YOUR ANSWER BELOW\n",
    "def predict(x_input, weights):\n",
    "    \"\"\"\n",
    "    Return the label prediction, 1 or -1 (an integer), for the given x_input and LR weights.\n",
    "    \n",
    "    Arguments:\n",
    "        x_input - *NOT-preprocessed* a vector of length d-1\n",
    "        weights - a vector of length d\n",
    "               \n",
    "    Example:\n",
    "        Xs = np.array([[22,7.25],[38,71.2833],[26,7.925],[35,53.1]])\n",
    "        weights = np.array([0,1,-1])\n",
    "        \n",
    "        for X in Xs:\n",
    "            print(predict(X,weights))\n",
    "            #-->     1\n",
    "                    -1\n",
    "                     1\n",
    "                    -1\n",
    "    \"\"\"\n",
    "    \n",
    "    return 1"
   ]
  },
  {
   "cell_type": "code",
   "execution_count": null,
   "metadata": {
    "collapsed": true,
    "deletable": false,
    "editable": false,
    "nbgrader": {
     "grade": true,
     "grade_id": "Question 10",
     "locked": true,
     "points": "15",
     "solution": false
    }
   },
   "outputs": [],
   "source": [
    "###\n",
    "### AUTOGRADER TEST - DO NOT REMOVE\n",
    "###\n"
   ]
  },
  {
   "cell_type": "markdown",
   "metadata": {
    "deletable": false,
    "editable": false,
    "nbgrader": {
     "grade": false,
     "locked": true,
     "solution": false
    }
   },
   "source": [
    "<a id = \"sklearn\"></a>\n",
    "### Logistic Regression in `sklearn`\n",
    "\n",
    "The following cells will demonstrate Logistic Regression using `sklearn`, and compare the custom Logistic Regression build in the previous functions to `sklearn's`\n",
    "\n",
    "[Logistic Regression in `sklearn` - Documentation](https://scikit-learn.org/stable/modules/generated/sklearn.linear_model.LogisticRegression.html)  "
   ]
  },
  {
   "cell_type": "code",
   "execution_count": null,
   "metadata": {
    "collapsed": true,
    "deletable": false,
    "editable": false,
    "nbgrader": {
     "grade": false,
     "locked": true,
     "solution": false
    }
   },
   "outputs": [],
   "source": [
    "from sklearn.linear_model import LogisticRegression\n",
    "from sklearn.metrics import classification_report\n",
    "lr = LogisticRegression()\n",
    "\n",
    "lr.fit(titanic_imputed, y_target)\n",
    "\n",
    "# Create sklearn's predictions\n",
    "sk_pred = lr.predict(titanic_imputed)\n",
    "\n",
    "print(lr.intercept_)\n",
    "print(lr.coef_)"
   ]
  },
  {
   "cell_type": "markdown",
   "metadata": {
    "deletable": false,
    "editable": false,
    "nbgrader": {
     "grade": false,
     "locked": true,
     "solution": false
    }
   },
   "source": [
    "If the above functions are correctly defined, the below cell should work\n",
    "While the particular coeffcients will be very different (regularization is implemented in the `sklearn` instantiation), at least the signs should mostly be the same.  \n",
    "\n",
    "**FOR FASTER GRADING TRY COMMENTING OUT THE BELOW CELLS**"
   ]
  },
  {
   "cell_type": "code",
   "execution_count": null,
   "metadata": {
    "collapsed": true,
    "nbgrader": {
     "grade": false,
     "locked": false,
     "solution": false
    }
   },
   "outputs": [],
   "source": [
    "# %%time\n",
    "# # This cell may take awhile\n",
    "# wt = fixed_iteration(titanic_imputed.values, y_target.values, .05, 12000)\n",
    "\n",
    "# print(wt)\n",
    "\n",
    "# cust_preds = np.array([predict(x,wt) for x in titanic_imputed.values])\n",
    "# cust_preds[cust_preds == -1] = 0"
   ]
  },
  {
   "cell_type": "code",
   "execution_count": null,
   "metadata": {
    "collapsed": true,
    "nbgrader": {
     "grade": false,
     "locked": false,
     "solution": false
    }
   },
   "outputs": [],
   "source": [
    "# print(\"sklearn:\")\n",
    "# print(classification_report(y_target, sk_pred))\n",
    "\n",
    "# print(\"Custom:\")\n",
    "# print(classification_report(y_target, cust_preds))"
   ]
  }
 ],
 "metadata": {
  "kernelspec": {
   "display_name": "Python 3",
   "language": "python",
   "name": "python3"
  },
  "language_info": {
   "codemirror_mode": {
    "name": "ipython",
    "version": 3
   },
   "file_extension": ".py",
   "mimetype": "text/x-python",
   "name": "python",
   "nbconvert_exporter": "python",
   "pygments_lexer": "ipython3",
   "version": "3.7.1"
  }
 },
 "nbformat": 4,
 "nbformat_minor": 2
}
