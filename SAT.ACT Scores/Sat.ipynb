{
 "cells": [
  {
   "cell_type": "code",
   "execution_count": 47,
   "metadata": {},
   "outputs": [],
   "source": [
    "import numpy as np \n",
    "import pandas as pd \n",
    "import seaborn as sns \n",
    "import matplotlib.pyplot as plt\n",
    "from sklearn.cluster import KMeans\n",
    "from sklearn.linear_model import LinearRegression"
   ]
  },
  {
   "cell_type": "code",
   "execution_count": 3,
   "metadata": {},
   "outputs": [],
   "source": [
    "df = pd.read_csv('/Users/davidpeterson/Downloads/PIETHON/SAT.ACT/sat.act.csv')"
   ]
  },
  {
   "cell_type": "code",
   "execution_count": 3,
   "metadata": {},
   "outputs": [
    {
     "data": {
      "text/html": [
       "<div>\n",
       "<style scoped>\n",
       "    .dataframe tbody tr th:only-of-type {\n",
       "        vertical-align: middle;\n",
       "    }\n",
       "\n",
       "    .dataframe tbody tr th {\n",
       "        vertical-align: top;\n",
       "    }\n",
       "\n",
       "    .dataframe thead th {\n",
       "        text-align: right;\n",
       "    }\n",
       "</style>\n",
       "<table border=\"1\" class=\"dataframe\">\n",
       "  <thead>\n",
       "    <tr style=\"text-align: right;\">\n",
       "      <th></th>\n",
       "      <th>Unnamed: 0</th>\n",
       "      <th>gender</th>\n",
       "      <th>education</th>\n",
       "      <th>age</th>\n",
       "      <th>ACT</th>\n",
       "      <th>SATV</th>\n",
       "      <th>SATQ</th>\n",
       "    </tr>\n",
       "  </thead>\n",
       "  <tbody>\n",
       "    <tr>\n",
       "      <th>0</th>\n",
       "      <td>29442</td>\n",
       "      <td>2</td>\n",
       "      <td>3</td>\n",
       "      <td>19</td>\n",
       "      <td>24</td>\n",
       "      <td>500</td>\n",
       "      <td>500.0</td>\n",
       "    </tr>\n",
       "    <tr>\n",
       "      <th>1</th>\n",
       "      <td>29457</td>\n",
       "      <td>2</td>\n",
       "      <td>3</td>\n",
       "      <td>23</td>\n",
       "      <td>35</td>\n",
       "      <td>600</td>\n",
       "      <td>500.0</td>\n",
       "    </tr>\n",
       "    <tr>\n",
       "      <th>2</th>\n",
       "      <td>29498</td>\n",
       "      <td>2</td>\n",
       "      <td>3</td>\n",
       "      <td>20</td>\n",
       "      <td>21</td>\n",
       "      <td>480</td>\n",
       "      <td>470.0</td>\n",
       "    </tr>\n",
       "    <tr>\n",
       "      <th>3</th>\n",
       "      <td>29503</td>\n",
       "      <td>1</td>\n",
       "      <td>4</td>\n",
       "      <td>27</td>\n",
       "      <td>26</td>\n",
       "      <td>550</td>\n",
       "      <td>520.0</td>\n",
       "    </tr>\n",
       "    <tr>\n",
       "      <th>4</th>\n",
       "      <td>29504</td>\n",
       "      <td>1</td>\n",
       "      <td>2</td>\n",
       "      <td>33</td>\n",
       "      <td>31</td>\n",
       "      <td>600</td>\n",
       "      <td>550.0</td>\n",
       "    </tr>\n",
       "  </tbody>\n",
       "</table>\n",
       "</div>"
      ],
      "text/plain": [
       "   Unnamed: 0  gender  education  age  ACT  SATV   SATQ\n",
       "0       29442       2          3   19   24   500  500.0\n",
       "1       29457       2          3   23   35   600  500.0\n",
       "2       29498       2          3   20   21   480  470.0\n",
       "3       29503       1          4   27   26   550  520.0\n",
       "4       29504       1          2   33   31   600  550.0"
      ]
     },
     "execution_count": 3,
     "metadata": {},
     "output_type": "execute_result"
    }
   ],
   "source": [
    "df.head()"
   ]
  },
  {
   "cell_type": "code",
   "execution_count": 4,
   "metadata": {},
   "outputs": [
    {
     "data": {
      "text/plain": [
       "(700, 7)"
      ]
     },
     "execution_count": 4,
     "metadata": {},
     "output_type": "execute_result"
    }
   ],
   "source": [
    "df.shape"
   ]
  },
  {
   "cell_type": "code",
   "execution_count": 5,
   "metadata": {},
   "outputs": [
    {
     "data": {
      "text/plain": [
       "Unnamed: 0     0\n",
       "gender         0\n",
       "education      0\n",
       "age            0\n",
       "ACT            0\n",
       "SATV           0\n",
       "SATQ          13\n",
       "dtype: int64"
      ]
     },
     "execution_count": 5,
     "metadata": {},
     "output_type": "execute_result"
    }
   ],
   "source": [
    "df.isnull().sum()"
   ]
  },
  {
   "cell_type": "code",
   "execution_count": 15,
   "metadata": {},
   "outputs": [
    {
     "data": {
      "text/html": [
       "<div>\n",
       "<style scoped>\n",
       "    .dataframe tbody tr th:only-of-type {\n",
       "        vertical-align: middle;\n",
       "    }\n",
       "\n",
       "    .dataframe tbody tr th {\n",
       "        vertical-align: top;\n",
       "    }\n",
       "\n",
       "    .dataframe thead th {\n",
       "        text-align: right;\n",
       "    }\n",
       "</style>\n",
       "<table border=\"1\" class=\"dataframe\">\n",
       "  <thead>\n",
       "    <tr style=\"text-align: right;\">\n",
       "      <th></th>\n",
       "      <th>Unnamed: 0</th>\n",
       "      <th>gender</th>\n",
       "      <th>education</th>\n",
       "      <th>age</th>\n",
       "      <th>ACT</th>\n",
       "      <th>SATV</th>\n",
       "      <th>SATQ</th>\n",
       "    </tr>\n",
       "  </thead>\n",
       "  <tbody>\n",
       "    <tr>\n",
       "      <th>count</th>\n",
       "      <td>700.000000</td>\n",
       "      <td>700.000000</td>\n",
       "      <td>700.000000</td>\n",
       "      <td>700.000000</td>\n",
       "      <td>700.000000</td>\n",
       "      <td>700.000000</td>\n",
       "      <td>687.000000</td>\n",
       "    </tr>\n",
       "    <tr>\n",
       "      <th>mean</th>\n",
       "      <td>34731.085714</td>\n",
       "      <td>1.647143</td>\n",
       "      <td>3.164286</td>\n",
       "      <td>25.594286</td>\n",
       "      <td>28.547143</td>\n",
       "      <td>612.234286</td>\n",
       "      <td>610.216885</td>\n",
       "    </tr>\n",
       "    <tr>\n",
       "      <th>std</th>\n",
       "      <td>3026.870021</td>\n",
       "      <td>0.478200</td>\n",
       "      <td>1.425351</td>\n",
       "      <td>9.498647</td>\n",
       "      <td>4.823560</td>\n",
       "      <td>112.902566</td>\n",
       "      <td>115.639297</td>\n",
       "    </tr>\n",
       "    <tr>\n",
       "      <th>min</th>\n",
       "      <td>29442.000000</td>\n",
       "      <td>1.000000</td>\n",
       "      <td>0.000000</td>\n",
       "      <td>13.000000</td>\n",
       "      <td>3.000000</td>\n",
       "      <td>200.000000</td>\n",
       "      <td>200.000000</td>\n",
       "    </tr>\n",
       "    <tr>\n",
       "      <th>25%</th>\n",
       "      <td>32116.750000</td>\n",
       "      <td>1.000000</td>\n",
       "      <td>3.000000</td>\n",
       "      <td>19.000000</td>\n",
       "      <td>25.000000</td>\n",
       "      <td>550.000000</td>\n",
       "      <td>530.000000</td>\n",
       "    </tr>\n",
       "    <tr>\n",
       "      <th>50%</th>\n",
       "      <td>34896.000000</td>\n",
       "      <td>2.000000</td>\n",
       "      <td>3.000000</td>\n",
       "      <td>22.000000</td>\n",
       "      <td>29.000000</td>\n",
       "      <td>620.000000</td>\n",
       "      <td>620.000000</td>\n",
       "    </tr>\n",
       "    <tr>\n",
       "      <th>75%</th>\n",
       "      <td>37250.500000</td>\n",
       "      <td>2.000000</td>\n",
       "      <td>4.000000</td>\n",
       "      <td>29.000000</td>\n",
       "      <td>32.000000</td>\n",
       "      <td>700.000000</td>\n",
       "      <td>700.000000</td>\n",
       "    </tr>\n",
       "    <tr>\n",
       "      <th>max</th>\n",
       "      <td>39985.000000</td>\n",
       "      <td>2.000000</td>\n",
       "      <td>5.000000</td>\n",
       "      <td>65.000000</td>\n",
       "      <td>36.000000</td>\n",
       "      <td>800.000000</td>\n",
       "      <td>800.000000</td>\n",
       "    </tr>\n",
       "  </tbody>\n",
       "</table>\n",
       "</div>"
      ],
      "text/plain": [
       "         Unnamed: 0      gender   education         age         ACT  \\\n",
       "count    700.000000  700.000000  700.000000  700.000000  700.000000   \n",
       "mean   34731.085714    1.647143    3.164286   25.594286   28.547143   \n",
       "std     3026.870021    0.478200    1.425351    9.498647    4.823560   \n",
       "min    29442.000000    1.000000    0.000000   13.000000    3.000000   \n",
       "25%    32116.750000    1.000000    3.000000   19.000000   25.000000   \n",
       "50%    34896.000000    2.000000    3.000000   22.000000   29.000000   \n",
       "75%    37250.500000    2.000000    4.000000   29.000000   32.000000   \n",
       "max    39985.000000    2.000000    5.000000   65.000000   36.000000   \n",
       "\n",
       "             SATV        SATQ  \n",
       "count  700.000000  687.000000  \n",
       "mean   612.234286  610.216885  \n",
       "std    112.902566  115.639297  \n",
       "min    200.000000  200.000000  \n",
       "25%    550.000000  530.000000  \n",
       "50%    620.000000  620.000000  \n",
       "75%    700.000000  700.000000  \n",
       "max    800.000000  800.000000  "
      ]
     },
     "execution_count": 15,
     "metadata": {},
     "output_type": "execute_result"
    }
   ],
   "source": [
    "df.describe()"
   ]
  },
  {
   "cell_type": "code",
   "execution_count": 5,
   "metadata": {},
   "outputs": [],
   "source": [
    "youngs = df[(df['age'] >=13) & (df['age'] <=17)] # (52,7)\n",
    "adults = df[(df['age'] < 17) & (df['age'] <=30)] # (14,7)\n",
    "older = df[(df['age'] >30) & (df['age'] <= 40)] # (92, 7) \n",
    "halfway_older = df[(df['age'] > 40) & (df['age'] <=50)] # (36, 7)\n",
    "retired = df[df.age > 50] # (24, 7)"
   ]
  },
  {
   "cell_type": "code",
   "execution_count": 59,
   "metadata": {},
   "outputs": [
    {
     "name": "stdout",
     "output_type": "stream",
     "text": [
      "ACT: 28.134615384615383 \n",
      "SATV: 629.0576923076923 \n",
      "SATQ: 624.3846153846154\n"
     ]
    }
   ],
   "source": [
    "# Averages for YOUNGS \n",
    "print(\"ACT:\", np.mean(youngs.ACT.values), \n",
    "      \"\\nSATV:\", np.mean(youngs.SATV.values), \n",
    "      '\\nSATQ:', np.mean(youngs.SATQ.values))"
   ]
  },
  {
   "cell_type": "code",
   "execution_count": 58,
   "metadata": {},
   "outputs": [
    {
     "name": "stdout",
     "output_type": "stream",
     "text": [
      "ACT: 28.214285714285715 \n",
      "SATV: 670.7142857142857 \n",
      "SATQ: 674.7142857142857\n"
     ]
    }
   ],
   "source": [
    "# Averages for ADULTS \n",
    "print(\"ACT:\", np.mean(adults.ACT.values), \n",
    "      \"\\nSATV:\", np.mean(adults.SATV.values), \n",
    "      '\\nSATQ:', np.mean(adults.SATQ.values))"
   ]
  },
  {
   "cell_type": "code",
   "execution_count": 6,
   "metadata": {},
   "outputs": [
    {
     "name": "stdout",
     "output_type": "stream",
     "text": [
      "ACT: 29.17391304347826 \n",
      "SATV: 596.2173913043479 \n",
      "SATQ: 594.8369565217391\n"
     ]
    }
   ],
   "source": [
    "## Older \n",
    "print(\"ACT:\", np.mean(older.ACT.values), \n",
    "      \"\\nSATV:\", np.mean(older.SATV.values), \n",
    "      '\\nSATQ:', np.mean(older.SATQ.values))"
   ]
  },
  {
   "cell_type": "code",
   "execution_count": 7,
   "metadata": {},
   "outputs": [
    {
     "name": "stdout",
     "output_type": "stream",
     "text": [
      "ACT: 30.25 \n",
      "SATV: 618.6111111111111 \n",
      "SATQ: 609.8611111111111\n"
     ]
    }
   ],
   "source": [
    " ## Halfway Older \n",
    "print(\"ACT:\", np.mean(halfway_older.ACT.values), \n",
    "      \"\\nSATV:\", np.mean(halfway_older.SATV.values), \n",
    "      '\\nSATQ:', np.mean(halfway_older.SATQ.values))"
   ]
  },
  {
   "cell_type": "code",
   "execution_count": 8,
   "metadata": {},
   "outputs": [
    {
     "name": "stdout",
     "output_type": "stream",
     "text": [
      "ACT: 29.541666666666668 \n",
      "SATV: 606.2916666666666 \n",
      "SATQ: nan\n"
     ]
    }
   ],
   "source": [
    "# retired \n",
    "print(\"ACT:\", np.mean(retired.ACT.values), \n",
    "      \"\\nSATV:\", np.mean(retired.SATV.values), \n",
    "      '\\nSATQ:', np.mean(retired.SATQ.values))"
   ]
  },
  {
   "cell_type": "code",
   "execution_count": 43,
   "metadata": {},
   "outputs": [],
   "source": [
    "retired.set_index('Unnamed: 0')\n",
    "retired.reset_index(drop=True)\n",
    "retired = retired.drop(retired.index[13]).reset_index(drop=True)"
   ]
  },
  {
   "cell_type": "code",
   "execution_count": 42,
   "metadata": {},
   "outputs": [
    {
     "name": "stdout",
     "output_type": "stream",
     "text": [
      "ACT: 29.52173913043478 \n",
      "SATV: 606.5652173913044 \n",
      "SATQ: 621.4782608695652\n"
     ]
    }
   ],
   "source": [
    "# retired \n",
    "print(\"ACT:\", np.mean(retired.ACT.values), \n",
    "      \"\\nSATV:\", np.mean(retired.SATV.values), \n",
    "      '\\nSATQ:', np.mean(retired.SATQ.values))"
   ]
  },
  {
   "cell_type": "code",
   "execution_count": 58,
   "metadata": {},
   "outputs": [
    {
     "data": {
      "text/plain": [
       "<matplotlib.collections.PathCollection at 0x1a197cd7b8>"
      ]
     },
     "execution_count": 58,
     "metadata": {},
     "output_type": "execute_result"
    },
    {
     "data": {
      "image/png": "[encoded data removed]",
      "text/plain": [
       "<Figure size 432x288 with 1 Axes>"
      ]
     },
     "metadata": {
      "needs_background": "light"
     },
     "output_type": "display_data"
    }
   ],
   "source": [
    "x = youngs.ACT\n",
    "y = youngs.SATV\n",
    "plt.scatter(x,y)"
   ]
  },
  {
   "cell_type": "code",
   "execution_count": 59,
   "metadata": {},
   "outputs": [
    {
     "data": {
      "text/plain": [
       "<matplotlib.collections.PathCollection at 0x1a19820be0>"
      ]
     },
     "execution_count": 59,
     "metadata": {},
     "output_type": "execute_result"
    },
    {
     "data": {
      "image/png": "[encoded data removed]",
      "text/plain": [
       "<Figure size 432x288 with 1 Axes>"
      ]
     },
     "metadata": {
      "needs_background": "light"
     },
     "output_type": "display_data"
    }
   ],
   "source": [
    "x = adults.ACT\n",
    "y = adults.SATV\n",
    "plt.scatter(x,y)"
   ]
  },
  {
   "cell_type": "code",
   "execution_count": 94,
   "metadata": {},
   "outputs": [
    {
     "data": {
      "text/plain": [
       "<matplotlib.collections.PathCollection at 0x1a1a9e3240>"
      ]
     },
     "execution_count": 94,
     "metadata": {},
     "output_type": "execute_result"
    },
    {
     "data": {
      "image/png": "[encoded data removed]",
      "text/plain": [
       "<Figure size 432x288 with 1 Axes>"
      ]
     },
     "metadata": {
      "needs_background": "light"
     },
     "output_type": "display_data"
    }
   ],
   "source": [
    "x = older.ACT.values\n",
    "y = older.SATV.values\n",
    "plt.scatter(x,y,marker='s')"
   ]
  },
  {
   "cell_type": "code",
   "execution_count": null,
   "metadata": {},
   "outputs": [],
   "source": []
  }
 ],
 "metadata": {
  "kernelspec": {
   "display_name": "Python 3",
   "language": "python",
   "name": "python3"
  },
  "language_info": {
   "codemirror_mode": {
    "name": "ipython",
    "version": 3
   },
   "file_extension": ".py",
   "mimetype": "text/x-python",
   "name": "python",
   "nbconvert_exporter": "python",
   "pygments_lexer": "ipython3",
   "version": "3.7.1"
  }
 },
 "nbformat": 4,
 "nbformat_minor": 2
}
