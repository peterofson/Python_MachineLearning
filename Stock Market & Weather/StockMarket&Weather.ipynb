{
 "cells": [
  {
   "cell_type": "code",
   "execution_count": 7,
   "metadata": {},
   "outputs": [],
   "source": [
    "import pandas as pd\n",
    "import matplotlib.pyplot as plt\n",
    "import numpy as np\n",
    "import seaborn as sb\n",
    "plt.rcParams['figure.figsize'] = (20.0, 10.0)\n",
    "\n",
    "# NASDAQ 100 Index; Index; D; NSA; 2019-01-10 => Daily - not seasonally adjusted \n",
    "tr_path = '/Users/Stellarhardwood/Downloads/STOCKMARKET_csv_2/STOCKMARKET_csv_2/data/NASDAQ100.csv'\n",
    "df_nasdaq = pd.read_csv(tr_path)\n",
    "\n",
    "# Dow Jones Composite Average; Index; D; NSA; 2019-01-10\n",
    "path = '/Users/Stellarhardwood/Downloads/STOCKMARKET_csv_2/STOCKMARKET_csv_2/data/DJCA.csv '\n",
    "df_dow = pd.read_csv(path)"
   ]
  },
  {
   "cell_type": "code",
   "execution_count": 10,
   "metadata": {},
   "outputs": [
    {
     "data": {
      "text/plain": [
       "DATE     0\n",
       "VALUE    0\n",
       "dtype: int64"
      ]
     },
     "execution_count": 10,
     "metadata": {},
     "output_type": "execute_result"
    }
   ],
   "source": []
  },
  {
   "cell_type": "code",
   "execution_count": null,
   "metadata": {},
   "outputs": [],
   "source": []
  }
 ],
 "metadata": {
  "kernelspec": {
   "display_name": "Python 3",
   "language": "python",
   "name": "python3"
  },
  "language_info": {
   "codemirror_mode": {
    "name": "ipython",
    "version": 3
   },
   "file_extension": ".py",
   "mimetype": "text/x-python",
   "name": "python",
   "nbconvert_exporter": "python",
   "pygments_lexer": "ipython3",
   "version": "3.7.1"
  }
 },
 "nbformat": 4,
 "nbformat_minor": 2
}
